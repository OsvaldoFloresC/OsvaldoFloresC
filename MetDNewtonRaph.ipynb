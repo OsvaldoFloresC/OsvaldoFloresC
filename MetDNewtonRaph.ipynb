{
  "cells": [
    {
      "cell_type": "markdown",
      "metadata": {
        "id": "view-in-github",
        "colab_type": "text"
      },
      "source": [
        "<a href=\"https://colab.research.google.com/github/OsvaldoFloresC/OsvaldoFloresC/blob/main/MetDNewtonRaph.ipynb\" target=\"_parent\"><img src=\"https://colab.research.google.com/assets/colab-badge.svg\" alt=\"Open In Colab\"/></a>"
      ]
    },
    {
      "cell_type": "markdown",
      "metadata": {
        "id": "9APLuc_GK2i2"
      },
      "source": [
        "Metodo de Newton-Raphson"
      ]
    },
    {
      "cell_type": "code",
      "execution_count": 91,
      "metadata": {
        "id": "2g3u-AOVKmQE"
      },
      "outputs": [],
      "source": [
        "# Definimos la función original f(x)= x^3-x-1 , al derivar f(x)\n",
        "def funcion(x):\n",
        "    return x**3 - x - 1"
      ]
    },
    {
      "cell_type": "markdown",
      "metadata": {
        "id": "LC103WkCL-1T"
      },
      "source": [
        "Sea la función *$⇒ f(x)=x^{3}-x-1\\\\\n",
        "f´(x)=3x^{2}-1$*"
      ]
    },
    {
      "cell_type": "code",
      "execution_count": 92,
      "metadata": {
        "id": "EZd-NNpeKolZ"
      },
      "outputs": [],
      "source": [
        "# Definir la derivada de la función f'(x)\n",
        "def derivada(x):\n",
        "    return 3*x**2 - 1\n"
      ]
    },
    {
      "cell_type": "code",
      "execution_count": 93,
      "metadata": {
        "id": "4fJ5V1NmKqp0"
      },
      "outputs": [],
      "source": [
        "# Ingreso de datos de entrada para el método de Newton\n",
        "P_o = 1  # Valor inicial\n",
        "tol = 0.01  # Representa la tolerancia\n",
        "nmax = 100  # Representa el número máximo de iteraciones\n",
        "error = 100  # Indica que el error comienza en 100\n",
        "niter = 0  # Se encarga de contar las iteraciones"
      ]
    },
    {
      "cell_type": "code",
      "execution_count": 94,
      "metadata": {
        "colab": {
          "base_uri": "https://localhost:8080/"
        },
        "id": "NZ_RtpF5Kt0C",
        "outputId": "7dcd5d09-01e0-49a3-c46a-b3b868b343f5"
      },
      "outputs": [
        {
          "output_type": "stream",
          "name": "stdout",
          "text": [
            "n \t P_{n-1} \t f(P_{n-1}) \t f'(P_{n-1}) \t P_n \t\t Error\n",
            "1\t 1.000000 \t -1.000000 \t 2.000000 \t 1.500000 \t 100.000000\n",
            "2\t 1.500000 \t 0.875000 \t 5.750000 \t 1.347826 \t 0.152174\n",
            "3\t 1.347826 \t 0.100682 \t 4.449905 \t 1.325200 \t 0.022626\n",
            "\n",
            "La raíz de la función dada en el intervalo [1.000000,2.000000] es: 1.325200\n"
          ]
        }
      ],
      "source": [
        "#Método de Newton\n",
        "\n",
        "# Encabezado de la tabla\n",
        "print(\"n \\t P_{n-1} \\t f(P_{n-1}) \\t f'(P_{n-1}) \\t P_n \\t\\t Error\")\n",
        "\n",
        "# Primer valor de p, usando P_o\n",
        "p_anterior = P_o\n",
        "f_p_anterior = funcion(p_anterior)\n",
        "f_prime_p_anterior = derivada(p_anterior)\n",
        "\n",
        "# Calcular el primer valor de P_n\n",
        "p_n = p_anterior - (f_p_anterior / f_prime_p_anterior)\n",
        "\n",
        "# Imprimir la primera fila\n",
        "print(\"{0}\\t {1:6.6f} \\t {2:6.6f} \\t {3:6.6f} \\t {4:6.6f} \\t {5:6.6f}\".format(niter + 1, p_anterior, f_p_anterior, f_prime_p_anterior, p_n, error))\n",
        "\n",
        "# Ciclo iterativo del método de Newton\n",
        "while abs(funcion(p_n)) > tol and niter < nmax:\n",
        "    niter += 1\n",
        "    # Guardar el valor anterior de p\n",
        "    p_anterior = p_n\n",
        "    # Calcular f(P_{n-1}) y f'(P_{n-1}) en el nuevo p_anterior\n",
        "    f_p_anterior = funcion(p_anterior)\n",
        "    f_prime_p_anterior = derivada(p_anterior)\n",
        "\n",
        "    # Actualizar el valor de P_n usando la fórmula de Newton\n",
        "    p_n = p_anterior - (f_p_anterior / f_prime_p_anterior)\n",
        "\n",
        "    # Calcular el error\n",
        "    error = abs(p_n - p_anterior)\n",
        "\n",
        "    # Imprimir valores de la iteración\n",
        "    print(\"{0}\\t {1:6.6f} \\t {2:6.6f} \\t {3:6.6f} \\t {4:6.6f} \\t {5:6.6f}\".format(niter + 1, p_anterior, f_p_anterior, f_prime_p_anterior, p_n, error))\n",
        "\n",
        "# Imprimir el resultado final\n",
        "print(\"\\nLa raíz de la función dada en el intervalo [{0:6.6f},{1:6.6f}] es: {2:6.6f}\".format(1, 2, p_n))"
      ]
    },
    {
      "cell_type": "code",
      "execution_count": 95,
      "metadata": {
        "id": "kO_6tBY-K9uu"
      },
      "outputs": [],
      "source": [
        "from math import *\n",
        "import numpy as np # contiene vectores y arreglos\n",
        "import matplotlib . pyplot as plt #imprime la grafica"
      ]
    },
    {
      "cell_type": "code",
      "execution_count": 96,
      "metadata": {
        "id": "wXAAc6HjNc7j"
      },
      "outputs": [],
      "source": [
        "x=np.linspace(1,5,100)"
      ]
    },
    {
      "cell_type": "code",
      "execution_count": 97,
      "metadata": {
        "colab": {
          "base_uri": "https://localhost:8080/",
          "height": 455
        },
        "id": "aGT3RV7-Nf9W",
        "outputId": "62667f3a-6a8e-4b55-94fa-ca9c0ffbe624"
      },
      "outputs": [
        {
          "output_type": "display_data",
          "data": {
            "text/plain": [
              "<Figure size 640x480 with 1 Axes>"
            ],
            "image/png": "[encoded data removed]"
          },
          "metadata": {}
        }
      ],
      "source": [
        "#plt.figure(figsize=(8,8))#Tamaño de la grafica\n",
        "plt.plot(x, funcion(x))\n",
        "plt.plot(x, derivada(x))\n",
        "plt.axhline(0, color=\"black\")\n",
        "plt.axvline(0, color=\"black\")\n",
        "plt.xlim(0, 5)\n",
        "plt.ylim(-2, 10)\n",
        "plt.xlabel('Eje X')\n",
        "plt.ylabel('Eje Y')\n",
        "plt.show()"
      ]
    },
    {
      "cell_type": "markdown",
      "source": [
        "Por el método de Newton-Raphson, la raíz de la función dada en el intervalo [1,2] es: 1.325200"
      ],
      "metadata": {
        "id": "4P1HzLCsT9j0"
      }
    }
  ],
  "metadata": {
    "colab": {
      "provenance": [],
      "authorship_tag": "ABX9TyOYILJVUU901ffigaP1CA4N",
      "include_colab_link": true
    },
    "kernelspec": {
      "display_name": "Python 3",
      "name": "python3"
    },
    "language_info": {
      "name": "python"
    }
  },
  "nbformat": 4,
  "nbformat_minor": 0
}