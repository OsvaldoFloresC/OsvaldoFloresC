{
  "nbformat": 4,
  "nbformat_minor": 0,
  "metadata": {
    "colab": {
      "provenance": [],
      "authorship_tag": "ABX9TyMV78ps4SOkNlv4Kx5h5arV",
      "include_colab_link": true
    },
    "kernelspec": {
      "name": "python3",
      "display_name": "Python 3"
    },
    "language_info": {
      "name": "python"
    }
  },
  "cells": [
    {
      "cell_type": "markdown",
      "metadata": {
        "id": "view-in-github",
        "colab_type": "text"
      },
      "source": [
        "<a href=\"https://colab.research.google.com/github/OsvaldoFloresC/OsvaldoFloresC/blob/main/Interpolaci%C3%B3nDNaville.ipynb\" target=\"_parent\"><img src=\"https://colab.research.google.com/assets/colab-badge.svg\" alt=\"Open In Colab\"/></a>"
      ]
    },
    {
      "cell_type": "markdown",
      "source": [
        "**Método de Naville**\n",
        "\n",
        "El método de Neville es una técnica de interpolación que se usa para aproximar un valor de una función dado un conjunto de puntos. Es particularmente útil porque ofrece una forma sistemática de construir polinomios de interpolación, proporcionando tanto una buena precisión como una fácil implementación."
      ],
      "metadata": {
        "id": "vqNgJQN2UWXy"
      }
    },
    {
      "cell_type": "markdown",
      "source": [
        "Para evitar los múltiples índices, dejamos que $Qi,j(x) \\ para \\ 0 ≤ j ≤ i$, denote el polinomio\n",
        "de interpolación de grado j en los números $(j + 1) xi− j, xi− j+1,... , xi−1, xi $; es decir\n",
        "\n",
        "$$Qi,j = Pi− j,i− j+1,...,i−1,i$$"
      ],
      "metadata": {
        "id": "gglVsWhsZ6aP"
      }
    },
    {
      "cell_type": "markdown",
      "source": [
        "Los valores de diferentes polinomios de interpolación en $x=1.5$ se obtuvieron en la ilustración al inicio de esta sección usando los datos que se muestran en la tabla.\n",
        "\n",
        "\\begin{array}{c|c|c|c|c|c|c}\n",
        "x & f(x)  \\\\\n",
        "\\hline\n",
        "1.0 & 0.7651977  \\\\\n",
        "1.3 & 0.6200860  \\\\\n",
        "1.6 & 0.4554022   \\\\\n",
        "1.9 & 0.2818186  \\\\\n",
        "2.2 & 0.1103623 \\\\\n",
        "\\end{array}"
      ],
      "metadata": {
        "id": "8FBXvdEiJJOI"
      }
    },
    {
      "cell_type": "code",
      "source": [
        "def metodo_neville(x, xi, fi):\n",
        "    # Número de puntos\n",
        "    n = len(xi)\n",
        "\n",
        "    # Crear una tabla vacía para los cálculos (n x n)\n",
        "    Q = [[0] * n for _ in range(n)]\n",
        "\n",
        "    # Poner los valores iniciales (f(xi)) en la primera columna\n",
        "    for i in range(n):\n",
        "        Q[i][0] = fi[i]\n",
        "\n",
        "    # Llenar la tabla usando la fórmula del método de Neville\n",
        "    for i in range(1, n):  # Empieza desde la segunda fila\n",
        "        for j in range(1, i + 1):  # Se llena hasta la diagonal correspondiente\n",
        "            Q[i][j] = ((x - xi[i - j]) * Q[i][j - 1] - (x - xi[i]) * Q[i - 1][j - 1]) / (xi[i] - xi[i - j])\n",
        "\n",
        "    # Redondear los resultados a 7 cifras decimales\n",
        "    for i in range(n):\n",
        "        for j in range(i + 1):\n",
        "            Q[i][j] = round(Q[i][j], 7)\n",
        "\n",
        "    # El valor interpolado está en la última posición de la diagonal\n",
        "    return Q[n - 1][n - 1], Q\n",
        "\n",
        "# Ejemplo: tabla de datos para probar el método\n",
        "xi = [1.0, 1.3, 1.6, 1.9, 2.2]  # Valores de x\n",
        "fi = [0.7651977, 0.6200860, 0.4554022, 0.2818186, 0.1103623]  # Valores de f(x)\n",
        "x = 1.5  # El valor donde queremos interpolar\n",
        "\n",
        "# Nombrar a la función para calcular\n",
        "P, Q = metodo_neville(x, xi, fi)\n",
        "\n",
        "# Mostrar los resultados\n",
        "print(f\"El valor aproximado es P({x}) = {P}\")\n",
        "print(\"Tabla de Neville:\")\n",
        "for fila in Q:\n",
        "    print(fila)"
      ],
      "metadata": {
        "colab": {
          "base_uri": "https://localhost:8080/"
        },
        "id": "xx2VE9tDNSIE",
        "outputId": "cab1f53d-66cf-4bc1-e732-9e32446cf662"
      },
      "execution_count": 15,
      "outputs": [
        {
          "output_type": "stream",
          "name": "stdout",
          "text": [
            "El valor aproximado es P(1.5) = 0.51182\n",
            "Tabla de Neville:\n",
            "[0.7651977, 0, 0, 0, 0]\n",
            "[0.620086, 0.5233449, 0, 0, 0]\n",
            "[0.4554022, 0.5102968, 0.5124715, 0, 0]\n",
            "[0.2818186, 0.5132634, 0.5112857, 0.5118127, 0]\n",
            "[0.1103623, 0.510427, 0.5137361, 0.5118302, 0.51182]\n"
          ]
        }
      ]
    },
    {
      "cell_type": "markdown",
      "source": [
        " Aplicando el\n",
        "método de Neville a los datos mediante la construcción de una tabla recursiva de la forma\n",
        "que se observa en la tabla obtenida.\n",
        "\n",
        "La fórmula recursiva para llenar la tabla es:\n",
        "\n",
        "$$\n",
        "Q_{i,j}(x) = \\frac{(x - x_{i-j}) Q_{i,j-1}(x) - (x - x_i) Q_{i-1,j-1}(x)}{x_i - x_{i-j}}\n",
        "$$\n",
        "\n",
        "\n",
        "\n",
        "El método construye una tabla triangular donde cada nivel de la tabla representa una aproximación del polinomio de interpolación de grado creciente."
      ],
      "metadata": {
        "id": "CHduK_HaKnPz"
      }
    }
  ]
}