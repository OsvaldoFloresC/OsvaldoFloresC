{
  "nbformat": 4,
  "nbformat_minor": 0,
  "metadata": {
    "colab": {
      "provenance": [],
      "authorship_tag": "ABX9TyP0KeiOBOG2yqO7NoDswd/k",
      "include_colab_link": true
    },
    "kernelspec": {
      "name": "python3",
      "display_name": "Python 3"
    },
    "language_info": {
      "name": "python"
    }
  },
  "cells": [
    {
      "cell_type": "markdown",
      "metadata": {
        "id": "view-in-github",
        "colab_type": "text"
      },
      "source": [
        "<a href=\"https://colab.research.google.com/github/OsvaldoFloresC/OsvaldoFloresC/blob/main/Polinomio_de_Hermite.ipynb\" target=\"_parent\"><img src=\"https://colab.research.google.com/assets/colab-badge.svg\" alt=\"Open In Colab\"/></a>"
      ]
    },
    {
      "cell_type": "markdown",
      "source": [
        "# **Polinomio de Hermite**\n",
        "La interpolación de Hermite es una técnica avanzada de interpolación polinómica que no solo se basa en los valores de una función en ciertos puntos (como en la interpolación de Lagrange), sino que también utiliza las derivadas de la función en esos puntos. Este método permite construir un polinomio que no solo pasa por los puntos dados, sino que también coincide con las pendientes de la función en esos puntos, proporcionando una aproximación más precisa y suave.\n",
        "$$P_n(x) = f[x_0] + \\sum_{k=1}^{n} f[x_0, x_1, \\ldots, x_k] \\prod_{j=0}^{k-1} (x - x_j)$$\n",
        "Donde\\\n",
        "  $ f[x_0] $ es el valor de la función en $( x_0 )$ \\\n",
        "  $ f[x_0, x_1, \\ldots, x_k] $ son las diferencias divididas de la función. \\\n",
        "  $\\prod_{j=0}^{k-1} (x - x_j)$ es el producto de los términos $(x - x_j)$ desde $ j = 0 $ hasta $j = k-1 $."
      ],
      "metadata": {
        "id": "UNFqsJT7tTNd"
      }
    },
    {
      "cell_type": "code",
      "source": [
        "import numpy as np\n",
        "import sympy as sp\n",
        "\n",
        "def metodo_hermite(x, xi, fi, fpi):\n",
        "    # Número de puntos\n",
        "    n = len(xi)\n",
        "\n",
        "    # Crear una tabla vacía para los cálculos (2n x 2n)\n",
        "    Q = np.zeros((2 * n, 2 * n))\n",
        "    z = np.zeros(2 * n)\n",
        "\n",
        "    # Poner los valores iniciales (f(xi)) y (f'(xi)) en la tabla\n",
        "    for i in range(n):\n",
        "        z[2 * i] = z[2 * i + 1] = xi[i]\n",
        "        Q[2 * i][0] = Q[2 * i + 1][0] = fi[i]\n",
        "        Q[2 * i + 1][1] = fpi[i]\n",
        "        if i != 0:\n",
        "            Q[2 * i][1] = (Q[2 * i][0] - Q[2 * i - 1][0]) / (z[2 * i] - z[2 * i - 1])\n",
        "\n",
        "    # Llenar la tabla usando la fórmula del método de Hermite\n",
        "    for i in range(2, 2 * n):\n",
        "        for j in range(2, i + 1):\n",
        "            Q[i][j] = (Q[i][j - 1] - Q[i - 1][j - 1]) / (z[i] - z[i - j])\n",
        "\n",
        "    # Redondear los resultados a 7 cifras decimales\n",
        "    Q = np.round(Q, 7)\n",
        "\n",
        "    # Coeficientes del polinomio de Hermite\n",
        "    coeficientes = [Q[i][i] for i in range(2 * n)]\n",
        "\n",
        "    # Construir el polinomio de Hermite\n",
        "    polinomio = f\"{coeficientes[0]}\"\n",
        "    for i in range(1, 2 * n):\n",
        "        term = f\"{coeficientes[i]}\"\n",
        "        for j in range(i):\n",
        "            term += f\"*(x - {z[j]})\"\n",
        "        polinomio += \" + \" + term\n",
        "\n",
        "    # Calcular el valor del polinomio en x\n",
        "    valor_polinomio = coeficientes[0]\n",
        "    for i in range(1, 2 * n):\n",
        "        term_value = coeficientes[i]\n",
        "        for j in range(i):\n",
        "            term_value *= (x - z[j])\n",
        "        valor_polinomio += term_value\n",
        "\n",
        "    # Crear tabla con encabezados\n",
        "    tabla_hermite = [[\"xi\", \"f(x)\", \"PDD\", \"SDD\", \"TDD\"]]\n",
        "    for i in range(2 * n):\n",
        "        fila = [z[i], Q[i][0]]\n",
        "        for j in range(1, i + 1):\n",
        "            if j < len(tabla_hermite[0]):\n",
        "                fila.append(Q[i][j])\n",
        "            else:\n",
        "                fila.append(\"\")\n",
        "        tabla_hermite.append(fila)\n",
        "\n",
        "    return valor_polinomio, Q, polinomio, tabla_hermite\n",
        "\n",
        "# Valores iniciales para la tabla de Hermite\n",
        "xi = [1.3, 1.6, 1.9]  # Valores de x\n",
        "fi = [0.6200860, 0.4554022, 0.2818186]  # Valores de f(x)\n",
        "fpi = [-0.5220232, -0.5698959, -0.5811571]  # Valores de f'(x)\n",
        "x = 1.5  # El valor donde queremos interpolar\n",
        "\n",
        "# Calcular el polinomio y la tabla de Hermite\n",
        "valor_polinomio, Q, polinomio, tabla_hermite = metodo_hermite(x, xi, fi, fpi)\n",
        "\n",
        "# Mostrar los resultados\n",
        "print(\"Tabla de Hermite:\")\n",
        "for fila in tabla_hermite:\n",
        "    print(fila)\n",
        "print(f\"H(x) = {polinomio}\")\n",
        "\n",
        "# Verificar el valor en x = 1.5\n",
        "value = 1.5\n",
        "a = 1\n",
        "h = Q[0][0]\n",
        "for i in range(1, 2 * len(xi)):\n",
        "    a = a * (value - z[i - 1])\n",
        "    h = h + a * Q[i][i]\n",
        "\n",
        "print(f\"El valor aproximado en H({x}) = {valor_polinomio}\")\n"
      ],
      "metadata": {
        "colab": {
          "base_uri": "https://localhost:8080/"
        },
        "id": "BV9XqmH_sW0u",
        "outputId": "6191a2dc-a3f9-412f-f303-9d593dc7211e"
      },
      "execution_count": null,
      "outputs": [
        {
          "output_type": "stream",
          "name": "stdout",
          "text": [
            "Tabla de Hermite:\n",
            "['xi', 'f(x)', 'PDD', 'SDD', 'TDD']\n",
            "[1.3, 0.620086]\n",
            "[1.3, 0.620086, -0.5220232]\n",
            "[1.6, 0.4554022, -0.548946, -0.0897427]\n",
            "[1.6, 0.4554022, -0.5698959, -0.069833, 0.0663656]\n",
            "[1.9, 0.2818186, -0.578612, -0.0290537, 0.0679656, 0.0026667]\n",
            "[1.9, 0.2818186, -0.5811571, -0.0084837, 0.0685667, 0.0010019, '']\n",
            "H(x) = 0.620086 + -0.5220232*(x - 1.3) + -0.0897427*(x - 1.3)*(x - 1.3) + 0.0663656*(x - 1.3)*(x - 1.3)*(x - 1.6) + 0.0026667*(x - 1.3)*(x - 1.3)*(x - 1.6)*(x - 1.6) + -0.0027747*(x - 1.3)*(x - 1.3)*(x - 1.6)*(x - 1.6)*(x - 1.9)\n",
            "El valor aproximado en H(1.5) = 0.5118277002320001\n"
          ]
        }
      ]
    },
    {
      "cell_type": "markdown",
      "source": [
        "Por lo que el polinomio de Hermite queda de la siguiente manera:"
      ],
      "metadata": {
        "id": "OkUP0jY1palW"
      }
    },
    {
      "cell_type": "markdown",
      "source": [
        "$$H(x) = 0.620086 + -0.5220232 \\cdot (x - 1.3) + -0.08974267 \\cdot (x - 1.3)^2 + 0.06636556 \\cdot (x - 1.3)^2 \\cdot (x - 1.6) + 0.00266667 \\cdot (x - 1.3)^2 \\cdot (x - 1.6)^2 + -0.00277469 \\cdot (x - 1.3)^2 \\cdot (x - 1.6)^2 \\cdot (x - 1.9)$$\n",
        "\n",
        "Utilizando la libreria SYMPY podemos hacer uso de herramientas de algebra computacional con lo cual el polinomio desarrollado tiene la siguiente forma:\n"
      ],
      "metadata": {
        "id": "6OzU0_9TpHOl"
      }
    },
    {
      "cell_type": "code",
      "source": [
        "sp.simplify(polinomio)"
      ],
      "metadata": {
        "colab": {
          "base_uri": "https://localhost:8080/",
          "height": 38
        },
        "id": "f08KV7SEgkUg",
        "outputId": "63e5dc2a-6f5f-4517-c5c1-d8fd9f25aa18"
      },
      "execution_count": null,
      "outputs": [
        {
          "output_type": "execute_result",
          "data": {
            "text/plain": [
              "-0.0027747*x**5 + 0.02403189*x**4 - 0.014556433*x**3 - 0.2352156601*x**2 - 0.00822951440000003*x + 1.001944103432"
            ],
            "text/latex": "$\\displaystyle - 0.0027747 x^{5} + 0.02403189 x^{4} - 0.014556433 x^{3} - 0.2352156601 x^{2} - 0.00822951440000003 x + 1.001944103432$"
          },
          "metadata": {},
          "execution_count": 31
        }
      ]
    },
    {
      "cell_type": "markdown",
      "source": [
        "Aunque la verdad este ultimo paso no es muy conveniente pues al seguir desarrollando el polinomio el error se propaga, por lo que es mas conveniente trabajar con su forma sin desarrollar.\n",
        "Este método es especialmente útil cuando se requiere que no solo los valores de la función sean exactos en ciertos puntos, sino también las pendientes (derivadas)."
      ],
      "metadata": {
        "id": "9OhRQADgqYii"
      }
    }
  ]
}