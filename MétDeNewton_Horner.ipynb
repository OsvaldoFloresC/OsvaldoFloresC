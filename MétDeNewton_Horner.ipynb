{
  "nbformat": 4,
  "nbformat_minor": 0,
  "metadata": {
    "colab": {
      "provenance": [],
      "authorship_tag": "ABX9TyMSfcaJ4eiZdZ4IqW+FM4Co",
      "include_colab_link": true
    },
    "kernelspec": {
      "name": "python3",
      "display_name": "Python 3"
    },
    "language_info": {
      "name": "python"
    }
  },
  "cells": [
    {
      "cell_type": "markdown",
      "metadata": {
        "id": "view-in-github",
        "colab_type": "text"
      },
      "source": [
        "<a href=\"https://colab.research.google.com/github/OsvaldoFloresC/OsvaldoFloresC/blob/main/M%C3%A9tDeNewton_Horner.ipynb\" target=\"_parent\"><img src=\"https://colab.research.google.com/assets/colab-badge.svg\" alt=\"Open In Colab\"/></a>"
      ]
    },
    {
      "cell_type": "markdown",
      "source": [
        "**METODO DE HORNER** \\\n",
        "El método de Horner simplifica la evaluación de polinomios y sus derivadas, haciendo el proceso más eficiente y menos propenso a errores numéricos. Este enfoque es especialmente útil cuando se combina con el método de Newton-Raphson para acelerar la convergencia hacia la raíz.\n",
        "$$x_{n+1} = x_n - \\frac{P(x_n)}{P'(x_n)}$$"
      ],
      "metadata": {
        "id": "L6SlAnJHuXzb"
      }
    },
    {
      "cell_type": "markdown",
      "source": [
        "Sea el polinomio $P(x)= 2x^4 - 3x^2 + 3x - 4$ y la aproximacion inicial $x_{0}=-2$"
      ],
      "metadata": {
        "id": "5DCVsTeJugx4"
      }
    },
    {
      "cell_type": "code",
      "source": [
        "def funcion(x):\n",
        "    return 2*x**4 - 3*x**2 + 3*x - 4"
      ],
      "metadata": {
        "id": "Q001s3KJupC_"
      },
      "execution_count": 149,
      "outputs": []
    },
    {
      "cell_type": "markdown",
      "source": [
        " $$⇒ P'(x)= 8x^{3} - 6x +3$$"
      ],
      "metadata": {
        "id": "R1XjJzHTuuBU"
      }
    },
    {
      "cell_type": "code",
      "source": [
        "def derivada(x):\n",
        "    return 8*x**3 - 6*x + 3"
      ],
      "metadata": {
        "id": "uX3m_ZcIutgv"
      },
      "execution_count": 150,
      "outputs": []
    },
    {
      "cell_type": "code",
      "source": [
        "# Ingreso de datos de entrada para el método de Newton\n",
        "P_o =-2  # Valor inicial\n",
        "tol = 0.00001  # Representa la tolerancia\n",
        "nmax = 100  # Representa el número máximo de iteraciones\n",
        "error = 100  # Indica que el error comienza en 100\n",
        "niter = 0  # Se encarga de contar las iteraciones"
      ],
      "metadata": {
        "id": "w5dJw6kDvyfO"
      },
      "execution_count": 151,
      "outputs": []
    },
    {
      "cell_type": "code",
      "execution_count": 152,
      "metadata": {
        "colab": {
          "base_uri": "https://localhost:8080/"
        },
        "id": "2WXNE9Vioygd",
        "outputId": "2886961a-017e-49dc-f414-1fb6dee565b4"
      },
      "outputs": [
        {
          "output_type": "stream",
          "name": "stdout",
          "text": [
            "i \t P_{n}    \t f(P_{n-1}) \t f'(P_{n-1})   \t P_n+1 \t\t Error\n",
            "1\t -2.000000 \t 10.000000 \t -49.000000 \t -1.795918 \t 100.000000\n",
            "2\t -1.795918 \t 1.741691 \t -32.563821 \t -1.742433 \t 0.053485\n",
            "3\t -1.742433 \t 0.099956 \t -28.866623 \t -1.738970 \t 0.003463\n",
            "4\t -1.738970 \t 0.000400 \t -28.635590 \t -1.738956 \t 0.000014\n",
            "\n",
            "La raíz de la función dada es: -1.738956\n"
          ]
        }
      ],
      "source": [
        "#Método de Newton - Horner\n",
        "\n",
        "# Encabezado de la tabla\n",
        "print(\"i \\t P_{n}    \\t f(P_{n-1}) \\t f'(P_{n-1})   \\t P_n+1 \\t\\t Error\")\n",
        "\n",
        "# Primer valor de p, usando P_o\n",
        "p_anterior = P_o\n",
        "f_p_anterior = funcion(p_anterior)\n",
        "f_prime_p_anterior = derivada(p_anterior)\n",
        "\n",
        "# Calcular el primer valor de P_n\n",
        "p_n = p_anterior - (f_p_anterior / f_prime_p_anterior)\n",
        "\n",
        "# Imprimir la primera fila\n",
        "print(\"{0}\\t {1:6.6f} \\t {2:6.6f} \\t {3:6.6f} \\t {4:6.6f} \\t {5:6.6f}\".format(niter + 1, p_anterior, f_p_anterior, f_prime_p_anterior, p_n, error))\n",
        "\n",
        "# Ciclo iterativo del método de Newton\n",
        "while abs(funcion(p_n)) > tol and niter < nmax:\n",
        "    niter += 1\n",
        "    # Guardar el valor anterior de p\n",
        "    p_anterior = p_n\n",
        "    # Calcular f(P_{n-1}) y f'(P_{n-1}) en el nuevo p_anterior\n",
        "    f_p_anterior = funcion(p_anterior)\n",
        "    f_prime_p_anterior = derivada(p_anterior)\n",
        "\n",
        "    # Actualizar el valor de P_n usando la fórmula de Newton\n",
        "    p_n = p_anterior - (f_p_anterior / f_prime_p_anterior)\n",
        "\n",
        "    # Calcular el error\n",
        "    error = abs(p_n - p_anterior)\n",
        "\n",
        "    # Imprimir valores de la iteración\n",
        "    print(\"{0}\\t {1:6.6f} \\t {2:6.6f} \\t {3:6.6f} \\t {4:6.6f} \\t {5:6.6f}\".format(niter + 1, p_anterior, f_p_anterior, f_prime_p_anterior, p_n, error))\n",
        "\n",
        "# Imprimir el resultado final\n",
        "print(\"\\nLa raíz de la función dada es: {2:6.6f}\".format(1, 2, p_n))"
      ]
    },
    {
      "cell_type": "markdown",
      "source": [
        "Podemos notar que el Método de Newton - Horner cumple: \\\n",
        "$$x_{n+1} = x_n - \\frac{P(x_n)}{P'(x_n)}$$ \\\n",
        "Por que\n",
        "$$x_{n+1} = -1.738970 - \\frac{0.000400}{-28.635590}= -1.738956$$ \\\n",
        "la cual mide su distancia $|P_{n+1}-P_{n}|$ con una precisión de $10^{-5}$"
      ],
      "metadata": {
        "id": "h_X0y45IzgF6"
      }
    },
    {
      "cell_type": "code",
      "source": [
        "from math import *\n",
        "import numpy as np # contiene vectores y arreglos\n",
        "import matplotlib . pyplot as plt #imprime la grafica"
      ],
      "metadata": {
        "id": "V2w6T_qj2E38"
      },
      "execution_count": 153,
      "outputs": []
    },
    {
      "cell_type": "code",
      "source": [
        "x = np.linspace(-10, 10, 400)"
      ],
      "metadata": {
        "id": "nUlqQFyp2Gu7"
      },
      "execution_count": 154,
      "outputs": []
    },
    {
      "cell_type": "code",
      "source": [
        "# Crear la gráfica\n",
        "plt.plot(x, funcion(x))\n",
        "plt.plot(x, derivada(x))\n",
        "plt.axhline(0, color=\"black\")\n",
        "plt.axvline(0, color=\"black\")\n",
        "plt.xlim(-10, 10)\n",
        "plt.ylim(-10, 10)\n",
        "plt.xlabel('x')\n",
        "plt.ylabel('y')\n",
        "# Coordenadas del punto\n",
        "\n",
        "x = [-1.738956]\n",
        "y = 0\n",
        "\n",
        "plt.scatter(x,y, color='red')\n",
        "\n",
        "plt.grid(color=\"red\")\n",
        "plt.show()"
      ],
      "metadata": {
        "colab": {
          "base_uri": "https://localhost:8080/",
          "height": 455
        },
        "id": "N9CsQF4v0i1O",
        "outputId": "307e91d1-5935-47e7-fc24-ef25bf8a9051"
      },
      "execution_count": 155,
      "outputs": [
        {
          "output_type": "display_data",
          "data": {
            "text/plain": [
              "<Figure size 640x480 with 1 Axes>"
            ],
            "image/png": "[encoded data removed]"
          },
          "metadata": {}
        }
      ]
    },
    {
      "cell_type": "markdown",
      "source": [
        " El procedimiento que se ha descrito recientemente recibe el nombre de **deflación**. La dificultad de la precisión con la deflación se debe al hecho de que cuando obtenemos los ceros aproximados de $P(x)$, el método de Newton se usa en el polinomio reducido $Qk(x)$, es decir,\n",
        "el polinomio reducido que tiene la propiedad de que\n",
        " $$P(x) ≈ (x − ˆ x1)(x − ˆ x2)···(x − ˆ xk)Qk(x)$$ \\\n",
        "Entonces de manera general \\\n",
        " $$\\therefore P(x) ≈ (x −1.738956)(x-1.738970)(x-1.742433 )(x-1.795918 ) Q(x)+ 0.000400 $$"
      ],
      "metadata": {
        "id": "dHdIj8g6553_"
      }
    }
  ]
}