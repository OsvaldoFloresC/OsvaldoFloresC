{
  "nbformat": 4,
  "nbformat_minor": 0,
  "metadata": {
    "colab": {
      "provenance": [],
      "authorship_tag": "ABX9TyM9GRnczJ7qIWxj5seFSCmA",
      "include_colab_link": true
    },
    "kernelspec": {
      "name": "python3",
      "display_name": "Python 3"
    },
    "language_info": {
      "name": "python"
    }
  },
  "cells": [
    {
      "cell_type": "markdown",
      "metadata": {
        "id": "view-in-github",
        "colab_type": "text"
      },
      "source": [
        "<a href=\"https://colab.research.google.com/github/OsvaldoFloresC/OsvaldoFloresC/blob/main/MetDMuller.ipynb\" target=\"_parent\"><img src=\"https://colab.research.google.com/assets/colab-badge.svg\" alt=\"Open In Colab\"/></a>"
      ]
    },
    {
      "cell_type": "code",
      "source": [
        "from math import *\n",
        "import numpy as np # contiene vectores y arreglos\n",
        "import matplotlib . pyplot as plt #imprime la grafica"
      ],
      "metadata": {
        "id": "Kupy10heSgRz"
      },
      "execution_count": 29,
      "outputs": []
    },
    {
      "cell_type": "markdown",
      "source": [
        "# **MÉTODO DE MÜLLER**\n",
        "El método de Muller es una técnica numérica utilizada para encontrar raíces de funciones. Es una extensión del método de la secante y del método de bisección. Este método utiliza una interpolación cuadrática para aproximar la raíz de una función. Específicamente, se basa en el uso de tres puntos\n",
        "$x_{0}, x_{1}, x_{2}$ para formar un polinomio cuadrático que se ajusta a la función en estos puntos. La raíz del polinomio se utiliza como una nueva aproximación a la raíz de la función."
      ],
      "metadata": {
        "id": "8vJScC6at-Pq"
      }
    },
    {
      "cell_type": "markdown",
      "source": [
        "Tomando la función de la ilustracion $x^{4} - 3x^{3} + x^{2} + x + 1$ \\\n"
      ],
      "metadata": {
        "id": "Ihl-jWQ2IhkV"
      }
    },
    {
      "cell_type": "code",
      "source": [
        "# Definición del polinomio de la ilustracion de la Figura 2.13\n",
        "def f(x):\n",
        "    return x**4 - 3*x**3 + x**2 + x + 1"
      ],
      "metadata": {
        "id": "rGc5WlBlRu55"
      },
      "execution_count": 30,
      "outputs": []
    },
    {
      "cell_type": "code",
      "source": [
        "x = np.linspace(-10, 10, 400)\n",
        "\n",
        "# Crear la gráfica\n",
        "plt.plot(x, f(x))\n",
        "plt.axhline(0, color=\"black\")\n",
        "plt.axvline(0, color=\"black\")\n",
        "plt.xlim(-2, 4)\n",
        "plt.ylim(-2, 4)\n",
        "plt.xlabel('x')\n",
        "plt.ylabel('y')\n",
        "plt.title('Gráfica de la función $x^{4} - 3x^{3} + x^{2} + x + 1$')\n",
        "plt.grid(color=\"red\")\n",
        "plt.show()"
      ],
      "metadata": {
        "colab": {
          "base_uri": "https://localhost:8080/",
          "height": 474
        },
        "id": "foUB-sXXQo9Z",
        "outputId": "b950e2e7-2580-4416-d4fd-74f2cdbc42bc"
      },
      "execution_count": 31,
      "outputs": [
        {
          "output_type": "display_data",
          "data": {
            "text/plain": [
              "<Figure size 640x480 with 1 Axes>"
            ],
            "image/png": "[encoded data removed]"
          },
          "metadata": {}
        }
      ]
    },
    {
      "cell_type": "code",
      "source": [
        "# Ingreso de datos de entrada para el método de Müller\n",
        "# Aproximaciones\n",
        "x0 = 0.5\n",
        "x1 = -0.5\n",
        "x2 = 0.0\n",
        "tol = 0.00001  # Representa la tolerancia\n",
        "nmax = 100  # Representa el número máximo de iteraciones\n",
        "error = 100  # Indica que el error comienza en 100\n",
        "\n",
        "# Método de Müller\n",
        "header = f\"{'i':^12} {'x2':^20} {'f(x2)':^20} {'Error relativo':^20}\"\n",
        "print(header)\n",
        "print(\"_\" * len(header))  # Separador del encabezado\n",
        "\n",
        "h1 = x1 - x0 # Representan diferecias de valores de x\n",
        "h2 = x2 - x1 # Representan diferecias de valores de x\n",
        "delta1 = (f(x1) - f(x0)) / h1 # Representan cocientes de diferecias convenientes\n",
        "delta2 = (f(x2) - f(x1)) / h2 # Representan cocientes de diferecias convenientes\n",
        "d = (delta2 - delta1) / (h2 + h1)\n",
        "\n",
        "# Comenzar desde la tercera iteración\n",
        "for niter in range(2, nmax):\n",
        "    b = delta2 + h2 * d\n",
        "    D = (b**2 - 4 * f(x2) * d)**0.5\n",
        "    if abs(b - D) < abs(b + D):\n",
        "        E = b + D\n",
        "    else:\n",
        "        E = b - D\n",
        "\n",
        "    h = -2 * f(x2) / E\n",
        "    x = x2 + h\n",
        "\n",
        "    # Verificar la condición de parada\n",
        "    if abs(h) < tol:\n",
        "        print(f\"{niter+1:^12} {x2:^20.10f} {f(x2):^20.10f} {abs(h) / abs(x):^20.10f}\")\n",
        "        print(\"El procedimiento fue exitoso.\")\n",
        "        print(f\"La raíz resultante es: {x:.10f}\")\n",
        "        break\n",
        "\n",
        "    # Actualizar valores para la siguiente iteración\n",
        "    x0 = x1\n",
        "    x1 = x2\n",
        "    x2 = x\n",
        "    h1 = x1 - x0\n",
        "    h2 = x2 - x1\n",
        "    delta1 = (f(x1) - f(x0)) / h1\n",
        "    delta2 = (f(x2) - f(x1)) / h2\n",
        "    d = (delta2 - delta1) / (h2 + h1)\n",
        "    error_relativo = abs(h) / abs(x)\n",
        "\n",
        "    # Imprimir los valores de la iteración actual\n",
        "    print(f\"{niter+1:^12} {x2:^20.10f} {f(x2):^20.10f} {error_relativo:^20.10f}\")\n",
        "\n",
        "if abs(h) >= tol:\n",
        "    print(\"El procedimiento no fue exitoso.\")\n",
        "    print(f\"La raíz resultante es: {x:.10f}\")\n"
      ],
      "metadata": {
        "colab": {
          "base_uri": "https://localhost:8080/"
        },
        "id": "SU4yyewGSQop",
        "outputId": "7aa6eb2d-d7c2-469e-cd13-72330e241d7f"
      },
      "execution_count": 32,
      "outputs": [
        {
          "output_type": "stream",
          "name": "stdout",
          "text": [
            "     i                x2                 f(x2)            Error relativo   \n",
            "___________________________________________________________________________\n",
            "     3       -0.1000000000-0.8888194417j -0.0112000000-3.0148755464j     1.0000000000    \n",
            "     4       -0.4921457099-0.4470307000j -0.1691207751+0.7367331512j     0.8884896650    \n",
            "     5       -0.3522257126-0.4841324442j -0.1786006615-0.0181872218j     0.2417811236    \n",
            "     6       -0.3402285705-0.4430356274j 0.0119760808+0.0105562188j     0.0766416074    \n",
            "     7       -0.3390946788-0.4466564890j -0.0001055719-0.0000387260j     0.0067658861    \n",
            "     8       -0.3390928334-0.4466301006j 0.0000000054-0.0000000180j     0.0000471725    \n",
            "     9       -0.3390928334-0.4466301006j 0.0000000054-0.0000000180j     0.0000000079    \n",
            "El procedimiento fue exitoso.\n",
            "La raíz resultante es: -0.3390928378-0.4466301000j\n"
          ]
        }
      ]
    },
    {
      "cell_type": "code",
      "source": [],
      "metadata": {
        "id": "7pgohRvaXKex"
      },
      "execution_count": null,
      "outputs": []
    },
    {
      "cell_type": "code",
      "source": [
        "# Ingreso de datos de entrada para el método de Müller\n",
        "# Aproximaciones\n",
        "x0 = 0.5\n",
        "x1 = 1.0\n",
        "x2 = 1.5\n",
        "tol = 0.00001  # Representa la tolerancia\n",
        "nmax = 100  # Representa el número máximo de iteraciones\n",
        "error = 100  # Indica que el error comienza en 100\n",
        "\n",
        "# Método de Müller\n",
        "header = f\"{'i':^12} {'x2':^20} {'f(x2)':^20} {'Error relativo':^20}\"\n",
        "print(header)\n",
        "print(\"_\" * len(header))  # Separador del encabezado\n",
        "\n",
        "h1 = x1 - x0 # Representan diferecias de valores de x\n",
        "h2 = x2 - x1 # Representan diferecias de valores de x\n",
        "delta1 = (f(x1) - f(x0)) / h1 # Representan cocientes de diferecias convenientes\n",
        "delta2 = (f(x2) - f(x1)) / h2 # Representan cocientes de diferecias convenientes\n",
        "d = (delta2 - delta1) / (h2 + h1)\n",
        "\n",
        "# Comenzar desde la tercera iteración\n",
        "for niter in range(2, nmax):\n",
        "    b = delta2 + h2 * d\n",
        "    D = (b**2 - 4 * f(x2) * d)**0.5\n",
        "    if abs(b - D) < abs(b + D):\n",
        "        E = b + D\n",
        "    else:\n",
        "        E = b - D\n",
        "\n",
        "    h = -2 * f(x2) / E\n",
        "    x = x2 + h\n",
        "\n",
        "    # Verificar la condición de parada\n",
        "    if abs(h) < tol:\n",
        "        print(f\"{niter+1:^12} {x2:^20.10f} {f(x2):^20.10f} {abs(h) / abs(x):^20.10f}\")\n",
        "        print(\"El procedimiento fue exitoso.\")\n",
        "        print(f\"La raíz resultante es: {x:.10f}\")\n",
        "        break\n",
        "\n",
        "    # Actualizar valores para la siguiente iteración\n",
        "    x0 = x1\n",
        "    x1 = x2\n",
        "    x2 = x\n",
        "    h1 = x1 - x0\n",
        "    h2 = x2 - x1\n",
        "    delta1 = (f(x1) - f(x0)) / h1\n",
        "    delta2 = (f(x2) - f(x1)) / h2\n",
        "    d = (delta2 - delta1) / (h2 + h1)\n",
        "    error_relativo = abs(h) / abs(x)\n",
        "\n",
        "    # Imprimir los valores de la iteración actual\n",
        "    print(f\"{niter+1:^12} {x2:^20.10f} {f(x2):^20.10f} {error_relativo:^20.10f}\")\n",
        "\n",
        "if abs(h) >= tol:\n",
        "    print(\"El procedimiento no fue exitoso.\")\n",
        "    print(f\"La raíz resultante es: {x:.10f}\")\n"
      ],
      "metadata": {
        "colab": {
          "base_uri": "https://localhost:8080/"
        },
        "outputId": "e5e265ea-913d-4627-a756-4db137b86798",
        "id": "YGYJCrSfXS90"
      },
      "execution_count": 34,
      "outputs": [
        {
          "output_type": "stream",
          "name": "stdout",
          "text": [
            "     i                x2                 f(x2)            Error relativo   \n",
            "___________________________________________________________________________\n",
            "     3           1.4063269672        -0.0485133690         0.0666082888    \n",
            "     4           1.3887833343         0.0017410073         0.0126323757    \n",
            "     5           1.3893896196         0.0000030492         0.0004363681    \n",
            "     6           1.3893896196         0.0000030492         0.0000007656    \n",
            "El procedimiento fue exitoso.\n",
            "La raíz resultante es: 1.3893906833\n"
          ]
        }
      ]
    },
    {
      "cell_type": "code",
      "source": [
        "# Ingreso de datos de entrada para el método de Müller\n",
        "# Aproximaciones\n",
        "x0 = 1.5\n",
        "x1 = 2.0\n",
        "x2 = 2.5\n",
        "tol = 0.00001  # Representa la tolerancia\n",
        "nmax = 100  # Representa el número máximo de iteraciones\n",
        "error = 100  # Indica que el error comienza en 100\n",
        "\n",
        "# Método de Müller\n",
        "header = f\"{'i':^12} {'x2':^20} {'f(x2)':^20} {'Error relativo':^20}\"\n",
        "print(header)\n",
        "print(\"_\" * len(header))  # Separador del encabezado\n",
        "\n",
        "h1 = x1 - x0 # Representan diferecias de valores de x\n",
        "h2 = x2 - x1 # Representan diferecias de valores de x\n",
        "delta1 = (f(x1) - f(x0)) / h1 # Representan cocientes de diferecias convenientes\n",
        "delta2 = (f(x2) - f(x1)) / h2 # Representan cocientes de diferecias convenientes\n",
        "d = (delta2 - delta1) / (h2 + h1)\n",
        "\n",
        "# Comenzar desde la tercera iteración\n",
        "for niter in range(2, nmax):\n",
        "    b = delta2 + h2 * d\n",
        "    D = (b**2 - 4 * f(x2) * d)**0.5\n",
        "    if abs(b - D) < abs(b + D):\n",
        "        E = b + D\n",
        "    else:\n",
        "        E = b - D\n",
        "\n",
        "    h = -2 * f(x2) / E\n",
        "    x = x2 + h\n",
        "\n",
        "    # Verificar la condición de parada\n",
        "    if abs(h) < tol:\n",
        "        print(f\"{niter+1:^12} {x2:^20.10f} {f(x2):^20.10f} {abs(h) / abs(x):^20.10f}\")\n",
        "        print(\"El procedimiento fue exitoso.\")\n",
        "        print(f\"La raíz resultante es: {x:.10f}\")\n",
        "        break\n",
        "\n",
        "    # Actualizar valores para la siguiente iteración\n",
        "    x0 = x1\n",
        "    x1 = x2\n",
        "    x2 = x\n",
        "    h1 = x1 - x0\n",
        "    h2 = x2 - x1\n",
        "    delta1 = (f(x1) - f(x0)) / h1\n",
        "    delta2 = (f(x2) - f(x1)) / h2\n",
        "    d = (delta2 - delta1) / (h2 + h1)\n",
        "    error_relativo = abs(h) / abs(x)\n",
        "\n",
        "    # Imprimir los valores de la iteración actual\n",
        "    print(f\"{niter+1:^12} {x2:^20.10f} {f(x2):^20.10f} {error_relativo:^20.10f}\")\n",
        "\n",
        "if abs(h) >= tol:\n",
        "    print(\"El procedimiento no fue exitoso.\")\n",
        "    print(f\"La raíz resultante es: {x:.10f}\")\n"
      ],
      "metadata": {
        "colab": {
          "base_uri": "https://localhost:8080/"
        },
        "outputId": "3d8416a4-a613-4914-a0f2-6d23cff6a6ef",
        "id": "Szdwtk2QXm4N"
      },
      "execution_count": 35,
      "outputs": [
        {
          "output_type": "stream",
          "name": "stdout",
          "text": [
            "     i                x2                 f(x2)            Error relativo   \n",
            "___________________________________________________________________________\n",
            "     3           2.2473316390        -0.2450656380         0.1124303848    \n",
            "     4           2.2865220950        -0.0144639245         0.0171397671    \n",
            "     5           2.2887754750        -0.0001247201         0.0009845352    \n",
            "     6           2.2887949939         0.0000000112         0.0000085280    \n",
            "     7           2.2887949939         0.0000000112         0.0000000008    \n",
            "El procedimiento fue exitoso.\n",
            "La raíz resultante es: 2.2887949922\n"
          ]
        }
      ]
    },
    {
      "cell_type": "code",
      "source": [
        "x = np.linspace(-10, 10, 400)\n",
        "\n",
        "# Crear la gráfica\n",
        "plt.plot(x, f(x))\n",
        "plt.axhline(0, color=\"black\")\n",
        "plt.axvline(0, color=\"black\")\n",
        "plt.xlim(-2, 4)\n",
        "plt.ylim(-2, 4)\n",
        "plt.xlabel('x')\n",
        "plt.ylabel('y')\n",
        "plt.title('Gráfica de la función $x^{4} - 3x^{3} + x^{2} + x + 1$')\n",
        "plt.grid(color=\"red\")\n",
        "# Coordenadas del punto\n",
        "x1 = [-0.3390928334-0.4466301006j]\n",
        "y1 = [0.0000000054-0.0000000180j]\n",
        "x2 = [1.3893906833]\n",
        "y2 = [0.0000030492]\n",
        "x3 = [2.2887949939]\n",
        "y3 = [0.0000000112]\n",
        "x4 = [1.3893906769]\n",
        "y4 = [0.0000000186]\n",
        "plt.scatter(x1, y1, color='red')\n",
        "plt.scatter(x2, y2, color='red')\n",
        "plt.scatter(x3, y3, color='red')\n",
        "plt.scatter(x4, y4, color='red')\n",
        "\n",
        "plt.show()"
      ],
      "metadata": {
        "colab": {
          "base_uri": "https://localhost:8080/",
          "height": 474
        },
        "id": "vxe0_TpTSTvj",
        "outputId": "2097800e-b82a-47e5-cc31-067708d063cf"
      },
      "execution_count": 46,
      "outputs": [
        {
          "output_type": "display_data",
          "data": {
            "text/plain": [
              "<Figure size 640x480 with 1 Axes>"
            ],
            "image/png": "[encoded data removed]"
          },
          "metadata": {}
        }
      ]
    },
    {
      "cell_type": "markdown",
      "source": [
        "\n",
        " La ilustración muestra que el método de Müller puede aproximar las raíces de los polinomios con una variedad de valores iniciales. De hecho, el método de Müller por lo general\n",
        "converge con la raíz de un polinomio para cualquier selección de aproximación inicial, a\n",
        "pesar de que se pueden construir problemas para los cuales la convergencia no se presentara.\n",
        "\n",
        " A diferencia del Método de Newton que tiende a incrementar el error al presentarse raices complejas. El Método de Muller puede atravezar estos obstaculos, mejorando la precision con la que se acerca a la raiz del polinomio."
      ],
      "metadata": {
        "id": "USPyvW63UVw7"
      }
    }
  ]
}