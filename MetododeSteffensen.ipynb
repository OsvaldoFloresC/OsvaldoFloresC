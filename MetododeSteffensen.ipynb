{
  "nbformat": 4,
  "nbformat_minor": 0,
  "metadata": {
    "colab": {
      "provenance": [],
      "authorship_tag": "ABX9TyPfU1+MUpTwmrkod5sfQimz",
      "include_colab_link": true
    },
    "kernelspec": {
      "name": "python3",
      "display_name": "Python 3"
    },
    "language_info": {
      "name": "python"
    }
  },
  "cells": [
    {
      "cell_type": "markdown",
      "metadata": {
        "id": "view-in-github",
        "colab_type": "text"
      },
      "source": [
        "<a href=\"https://colab.research.google.com/github/OsvaldoFloresC/OsvaldoFloresC/blob/main/MetododeSteffensen.ipynb\" target=\"_parent\"><img src=\"https://colab.research.google.com/assets/colab-badge.svg\" alt=\"Open In Colab\"/></a>"
      ]
    },
    {
      "cell_type": "markdown",
      "source": [
        "**El Método de Steffensen.** \\\\\n",
        "Es una combinacion de: \\\\\n",
        "El Método de Punto Fijo: Este método se utiliza para encontrar raíces de ecuaciones de la forma f(x)=0\n",
        "Se construye una secuencia iterativa X_{n+1} = g(Xn)\n",
        " donde g(x)\n",
        " es una función que se aproxima a la raíz.\n",
        "\n",
        "El Método de Aitken: Este método acelera la convergencia de una secuencia iterativa mediante la eliminación de términos de orden superior en la expansión de Taylor de la función. \\\\\n",
        ""
      ],
      "metadata": {
        "id": "9hMjFdOF5zq0"
      }
    },
    {
      "cell_type": "markdown",
      "source": [
        "Sea la funcion Cos x - 2x +3 = 0 \\\\\n",
        "Por el teorema del valor intermedio que la funcion es continua asi que al depejar la funcion dada g si g(p) = p. \\\\\n",
        "$$⇒ Cos x -2x +3 =0 \\\\\n",
        "⇒2x= Cos (x) + 3 \\\\\n",
        "\\therefore x=\\frac{Cos(x)+3}{2} $$ \\\\\n",
        "\n",
        "$$⇒X_{n+1}=\\frac{Cos(x)+3}{2}$$"
      ],
      "metadata": {
        "id": "NNdfaZhn81vT"
      }
    },
    {
      "cell_type": "code",
      "source": [
        "from math import cos\n",
        "\n",
        "# Definir la función Xn+1 usando la fórmula ((cos(Xn) + 3) / 2)\n",
        "def funcion_Xn1(Xn):\n",
        "    return (cos(Xn) + 3) / 2"
      ],
      "metadata": {
        "id": "v25KvglpxNSE"
      },
      "execution_count": 82,
      "outputs": []
    },
    {
      "cell_type": "code",
      "source": [
        "# Ingreso de datos iniciales\n",
        "Xn = 1  # Valor inicial Xn = 1\n",
        "tol = 0.00001  # Tolerancia\n",
        "nmax = 16  # Número máximo de iteraciones (15 iteraciones en total)\n",
        "error = 1  # Error inicial (mayor que tol)\n",
        ""
      ],
      "metadata": {
        "id": "SNejvsxsxWXf"
      },
      "execution_count": 83,
      "outputs": []
    },
    {
      "cell_type": "code",
      "execution_count": 84,
      "metadata": {
        "colab": {
          "base_uri": "https://localhost:8080/"
        },
        "id": "rzW5C8mhw28E",
        "outputId": "5ceb89f6-377c-480d-8afd-1c7011c51c98"
      },
      "outputs": [
        {
          "output_type": "stream",
          "name": "stdout",
          "text": [
            "# iter\t\t Xn \t\t Xn+1 \t\t αn \t\t Error\n",
            "0\t\t 1.000000 \t 1.770151 \t 0.000000 \t 0.000000\n",
            "1\t\t 1.770151 \t 1.400982 \t 1.337912 \t 0.369170\n",
            "2\t\t 1.400982 \t 1.584500 \t 1.615675 \t 0.183518\n",
            "3\t\t 1.584500 \t 1.493148 \t 1.477867 \t 0.091351\n",
            "4\t\t 1.493148 \t 1.538785 \t 1.546443 \t 0.045637\n",
            "5\t\t 1.538785 \t 1.516003 \t 1.512190 \t 0.022782\n",
            "6\t\t 1.516003 \t 1.527383 \t 1.529290 \t 0.011380\n",
            "7\t\t 1.527383 \t 1.521700 \t 1.520748 \t 0.005683\n",
            "8\t\t 1.521700 \t 1.524538 \t 1.525014 \t 0.002839\n",
            "9\t\t 1.524538 \t 1.523121 \t 1.522883 \t 0.001418\n",
            "10\t\t 1.523121 \t 1.523829 \t 1.523947 \t 0.000708\n",
            "11\t\t 1.523829 \t 1.523475 \t 1.523416 \t 0.000354\n",
            "12\t\t 1.523475 \t 1.523652 \t 1.523681 \t 0.000177\n",
            "13\t\t 1.523652 \t 1.523564 \t 1.523549 \t 0.000088\n",
            "14\t\t 1.523564 \t 1.523608 \t 1.523615 \t 0.000044\n",
            "15\t\t 1.523608 \t 1.523586 \t 1.523582 \t 0.000022\n",
            "16\t\t 1.523586 \t 1.523597 \t 0.000000 \t 0.000011\n",
            "\n",
            "La raíz aproximada de la función es: 1.523597\n"
          ]
        }
      ],
      "source": [
        "# Encabezado de la tabla\n",
        "print(\"# iter\\t\\t Xn \\t\\t Xn+1 \\t\\t αn \\t\\t Error\")\n",
        "\n",
        "# Ciclo iterativo para el método\n",
        "for niter in range(nmax + 1):\n",
        "    # Calcular Xn+1 usando la función\n",
        "    Xn1 = funcion_Xn1(Xn)\n",
        "\n",
        "    # Calcular Xn+2 para usar en el cálculo de αn\n",
        "    Xn2 = funcion_Xn1(Xn1)\n",
        "\n",
        "    # Calcular el error\n",
        "    if niter == 0:\n",
        "        error = 0  # En la primera iteración el error es cero\n",
        "    else:\n",
        "        error = abs(Xn1 - Xn)\n",
        "\n",
        "    # Calcular αn usando la fórmula de Steffensen\n",
        "    if niter == 0:\n",
        "        alpha_n = 0\n",
        "    elif niter < nmax:  # Corrección: if niter < nmax\n",
        "        alpha_n = Xn2 - ((Xn1 - Xn) ** 2 / (Xn2 - 2 * Xn1 + Xn))\n",
        "    else:\n",
        "        alpha_n = 0  # No se calcula αn en la última iteración\n",
        "\n",
        "    # Imprimir valores de la iteración\n",
        "    print(\"{0}\\t\\t {1:6.6f} \\t {2:6.6f} \\t {3:6.6f} \\t {4:6.6f}\".format(niter, Xn, Xn1, alpha_n, error))\n",
        "\n",
        "    # Actualizar Xn para la siguiente iteración\n",
        "    Xn = Xn1\n",
        "\n",
        "# Resultado final\n",
        "print(\"\\nLa raíz aproximada de la función es: {0:6.6f}\".format(Xn))"
      ]
    },
    {
      "cell_type": "markdown",
      "source": [
        "Por el método de Steffensen podemos aproximar una raiz que se encuentra en el intervalo [1,2] la cual es: 1.523597 con una precisión de $10^{-5}$"
      ],
      "metadata": {
        "id": "un2Q7cj1AUqE"
      }
    },
    {
      "cell_type": "code",
      "source": [
        "\n",
        "from math import *\n",
        "import numpy as np # contiene vectores y arreglos\n",
        "import matplotlib . pyplot as plt #imprime la grafica\n",
        "\n",
        "\n",
        "x = np.linspace(-10, 10, 400)"
      ],
      "metadata": {
        "id": "vB6PzCatwf7i"
      },
      "execution_count": 85,
      "outputs": []
    },
    {
      "cell_type": "code",
      "source": [
        "\n",
        "\n",
        "# Calcular los valores de y utilizando la función definida\n",
        "y = [funcion_Xn1(xi) for xi in x]\n",
        "\n",
        "# Crear la gráfica\n",
        "plt.plot(x, y,)\n",
        "plt.axhline(0, color=\"black\")\n",
        "plt.axvline(0, color=\"black\")\n",
        "plt.xlim(0, 3)\n",
        "plt.ylim(0, 3)\n",
        "plt.xlabel('x')\n",
        "plt.ylabel('y')\n",
        "plt.title('Gráfica de la función (cos(x) + 3) / 2')\n",
        "plt.grid(color=\"red\")\n",
        "# Coordenadas del punto\n",
        "x = [1.523586]\n",
        "y = [1.523597]\n",
        "plt.scatter(x, y, color='red')\n",
        "plt.show()"
      ],
      "metadata": {
        "colab": {
          "base_uri": "https://localhost:8080/",
          "height": 472
        },
        "id": "-ZN-QLDKyge-",
        "outputId": "a567c038-2ad8-434e-f34a-e101c8bd3a17"
      },
      "execution_count": 86,
      "outputs": [
        {
          "output_type": "display_data",
          "data": {
            "text/plain": [
              "<Figure size 640x480 with 1 Axes>"
            ],
            "image/png": "[encoded data removed]"
          },
          "metadata": {}
        }
      ]
    },
    {
      "cell_type": "markdown",
      "source": [
        "Podemos concluir que El Método de Steffensen combina estos dos métodos para mejorar la velocidad de convergencia. La fórmula de Steffensen es: $$ \\alpha_n = X_{n+2} - \\frac{(X_{n+1} - X_n)^2}{X_{n+2} - 2X_{n+1} + X_n} $$"
      ],
      "metadata": {
        "id": "nRDT-cAyBjP8"
      }
    }
  ]
}