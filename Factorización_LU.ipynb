{
  "nbformat": 4,
  "nbformat_minor": 0,
  "metadata": {
    "colab": {
      "provenance": [],
      "authorship_tag": "ABX9TyPG+F/TW6beQRcBh+JPYZuk",
      "include_colab_link": true
    },
    "kernelspec": {
      "name": "python3",
      "display_name": "Python 3"
    },
    "language_info": {
      "name": "python"
    }
  },
  "cells": [
    {
      "cell_type": "markdown",
      "metadata": {
        "id": "view-in-github",
        "colab_type": "text"
      },
      "source": [
        "<a href=\"https://colab.research.google.com/github/OsvaldoFloresC/OsvaldoFloresC/blob/main/Factorizaci%C3%B3n_LU.ipynb\" target=\"_parent\"><img src=\"https://colab.research.google.com/assets/colab-badge.svg\" alt=\"Open In Colab\"/></a>"
      ]
    },
    {
      "cell_type": "markdown",
      "source": [
        "# **Factorización LU**\n",
        "La factorización LU es un método utilizado en álgebra lineal para descomponer una matriz en el producto de una matriz triangular. Este método es muy útil para resolver sistemas de ecuaciones lineales, calcular determinantes y encontrar inversas de matrices.\n",
        "\n",
        "$$A = LU $$\n",
        "$L$ es una matriz triangular inferior de tamaño $n * n$ con unos en la diagonal principal.\n",
        "\n",
        "$U$ es una matriz triangular superior de tamaño $n * n$"
      ],
      "metadata": {
        "id": "c-dWQzouyu2R"
      }
    },
    {
      "cell_type": "code",
      "source": [
        "import numpy as np\n",
        "\n",
        "def factorizacion_lu(A):\n",
        "    n = A.shape[0]\n",
        "    L = np.eye(n)  # Inicializamos L como una matriz identidad\n",
        "    U = np.zeros((n, n))  # Inicializamos U como una matriz de ceros\n",
        "\n",
        "    for i in range(n):\n",
        "        # Paso 1: Seleccionar lii y uii\n",
        "        U[i, i] = A[i, i] - sum(L[i, k] * U[k, i] for k in range(i))\n",
        "        if U[i, i] == 0:\n",
        "            print(\"Factorización imposible\")\n",
        "            return None, None\n",
        "\n",
        "        # Paso 2: Calcular los elementos de la fila i de U y de la columna i de L\n",
        "        for j in range(i + 1, n):\n",
        "            U[i, j] = A[i, j] - sum(L[i, k] * U[k, j] for k in range(i))\n",
        "            L[j, i] = (A[j, i] - sum(L[j, k] * U[k, i] for k in range(i))) / U[i, i]\n",
        "\n",
        "    return L, U\n",
        "\n",
        "def sustitucion_progresiva(L, b):\n",
        "    n = L.shape[0]\n",
        "    y = np.zeros_like(b, dtype=np.float64)  # Vector para almacenar las soluciones intermedias\n",
        "\n",
        "    for i in range(n):\n",
        "        y[i] = b[i] - np.dot(L[i, :i], y[:i])  # Sustitución hacia adelante\n",
        "\n",
        "    return y\n",
        "\n",
        "def sustitucion_regresiva(U, y):\n",
        "    n = U.shape[0]\n",
        "    x = np.zeros_like(y, dtype=np.float64)  # Vector para almacenar la solución final\n",
        "\n",
        "    for i in range(n - 1, -1, -1):\n",
        "        x[i] = (y[i] - np.dot(U[i, i + 1:], x[i + 1:])) / U[i, i]  # Sustitución hacia atrás\n",
        "\n",
        "    return x\n",
        "\n",
        "# Matriz de entrada\n",
        "A = np.array([\n",
        "    [1, 1, 0, 3],\n",
        "    [2, 1, -1, 1],\n",
        "    [3, -1, -1, 2],\n",
        "    [-1, 2, 3, -1]\n",
        "], dtype=float)\n",
        "\n",
        "# Vector b\n",
        "b = np.array([4, 1, -3, 4], dtype=float)\n",
        "\n",
        "# Realizamos la factorización LU\n",
        "L, U = factorizacion_lu(A)\n",
        "\n",
        "if L is not None and U is not None:\n",
        "    print(\"Matriz L:\")\n",
        "    print(L)\n",
        "    print(\"\\nMatriz U:\")\n",
        "    print(U)\n",
        "\n",
        "    # Solucionamos el sistema LY = b\n",
        "    y = sustitucion_progresiva(L, b)\n",
        "    print(\"\\nSolución del sistema LY = b (vector y):\")\n",
        "    print(y)\n",
        "\n",
        "    # Solucionamos el sistema UX = Y\n",
        "    x = sustitucion_regresiva(U, y)\n",
        "    print(\"\\nSolución del sistema UX = Y (vector x):\")\n",
        "    print(x)\n"
      ],
      "metadata": {
        "colab": {
          "base_uri": "https://localhost:8080/"
        },
        "id": "G9ZFLCV0w-Ho",
        "outputId": "4f96b3f0-f143-4b23-8887-bed8117ed5ec"
      },
      "execution_count": 2,
      "outputs": [
        {
          "output_type": "stream",
          "name": "stdout",
          "text": [
            "Matriz L:\n",
            "[[ 1.  0.  0.  0.]\n",
            " [ 2.  1.  0.  0.]\n",
            " [ 3.  4.  1.  0.]\n",
            " [-1. -3.  0.  1.]]\n",
            "\n",
            "Matriz U:\n",
            "[[  1.   1.   0.   3.]\n",
            " [  0.  -1.  -1.  -5.]\n",
            " [  0.   0.   3.  13.]\n",
            " [  0.   0.   0. -13.]]\n",
            "\n",
            "Solución del sistema LY = b (vector y):\n",
            "[  4.  -7.  13. -13.]\n",
            "\n",
            "Solución del sistema UX = Y (vector x):\n",
            "[-1.  2.  0.  1.]\n"
          ]
        }
      ]
    },
    {
      "cell_type": "markdown",
      "source": [
        "La factorización LU no solo facilita la resolución de sistemas lineales complejos, sino que también es una herramienta fundamental para diversas aplicaciones en matemáticas y ciencias."
      ],
      "metadata": {
        "id": "wk7Yzy0m023m"
      }
    }
  ]
}