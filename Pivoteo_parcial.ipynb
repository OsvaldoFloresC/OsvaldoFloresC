{
  "nbformat": 4,
  "nbformat_minor": 0,
  "metadata": {
    "colab": {
      "provenance": [],
      "authorship_tag": "ABX9TyM5dnQolZO+e+ej8L9hi/si",
      "include_colab_link": true
    },
    "kernelspec": {
      "name": "python3",
      "display_name": "Python 3"
    },
    "language_info": {
      "name": "python"
    }
  },
  "cells": [
    {
      "cell_type": "markdown",
      "metadata": {
        "id": "view-in-github",
        "colab_type": "text"
      },
      "source": [
        "<a href=\"https://colab.research.google.com/github/OsvaldoFloresC/OsvaldoFloresC/blob/main/Pivoteo_parcial.ipynb\" target=\"_parent\"><img src=\"https://colab.research.google.com/assets/colab-badge.svg\" alt=\"Open In Colab\"/></a>"
      ]
    },
    {
      "cell_type": "markdown",
      "source": [
        "# **Eliminación gaussiana con pivoteo parcial**\n",
        "El pivoteo parcial es una mejora de la eliminación gaussiana que se utiliza para aumentar la estabilidad numérica y evitar errores debido a divisiones por números muy pequeños o cercanos a cero. En lugar de usar siempre el elemento de la diagonal principal como pivote, el pivoteo parcial selecciona el mayor valor absoluto en la columna actual y permuta la fila correspondiente con la fila del pivote.\n",
        "\n",
        "El pivoteo parcial:\n",
        "Selecciona el mayor valor absoluto en la columna actual como pivote, mejorando la estabilidad numérica con ello minimiza el riesgo de inestabilidad numérica."
      ],
      "metadata": {
        "id": "VSLNNl_gVRJP"
      }
    },
    {
      "cell_type": "code",
      "execution_count": null,
      "metadata": {
        "colab": {
          "base_uri": "https://localhost:8080/"
        },
        "id": "MQQJDK2bTP1v",
        "outputId": "17bec2b4-61c6-4770-ad93-4258f57b0ee1"
      },
      "outputs": [
        {
          "output_type": "stream",
          "name": "stdout",
          "text": [
            "Matriz Aumentada Inicial:\n",
            "[[ 3.000e-03  5.914e+01  5.917e+01]\n",
            " [ 5.291e+00 -6.130e+00  4.678e+01]]\n",
            "\n",
            "Matriz después de la eliminación en la columna 1:\n",
            "[[ 5.291      -6.13       46.78      ]\n",
            " [ 0.         59.14347571 59.14347571]]\n",
            "\n",
            "Matriz después de la eliminación en la columna 2:\n",
            "[[ 5.291      -6.13       46.78      ]\n",
            " [ 0.         59.14347571 59.14347571]]\n",
            "\n",
            "Matriz reducida:\n",
            "[[ 5.291      -6.13       46.78      ]\n",
            " [ 0.         59.14347571 59.14347571]]\n",
            "\n",
            "Solución del sistema:\n",
            "x1 = 10\n",
            "x2 = 1\n"
          ]
        }
      ],
      "source": [
        "import numpy as np\n",
        "\n",
        "def eliminacion_gaussiana_pivoteo_parcial(A):\n",
        "    n = A.shape[0]  # Número de filas de la matriz A\n",
        "\n",
        "    print(\"Matriz Aumentada Inicial:\")\n",
        "    print(A)\n",
        "\n",
        "    # Proceso de Eliminación Gaussiana con Pivoteo Parcial\n",
        "    for i in range(n):\n",
        "        # Encontrar el mayor pivote absoluto en la columna actual\n",
        "        max_row_index = np.argmax(abs(A[i:, i])) + i\n",
        "        if A[max_row_index, i] == 0:\n",
        "            raise ValueError(\"El sistema no tiene solución única (pivote nulo encontrado).\")\n",
        "\n",
        "        # Intercambiar la fila actual con la fila del mayor pivote\n",
        "        if i != max_row_index:\n",
        "            A[[i, max_row_index]] = A[[max_row_index, i]]\n",
        "\n",
        "        # Eliminar los elementos debajo del pivote\n",
        "        for j in range(i + 1, n):\n",
        "            factor = A[j, i] / A[i, i]\n",
        "            A[j, i:] = A[j, i:] - factor * A[i, i:]\n",
        "\n",
        "        # Imprimir la matriz después de la eliminación de cada columna\n",
        "        print(f\"\\nMatriz después de la eliminación en la columna {i + 1}:\")\n",
        "        print(A)\n",
        "\n",
        "    # Sustitución hacia atrás\n",
        "    x = np.zeros(n)\n",
        "    for i in range(n - 1, -1, -1):\n",
        "        x[i] = (A[i, -1] - np.dot(A[i, i + 1:n], x[i + 1:n])) / A[i, i]\n",
        "\n",
        "    # Imprimir la matriz después de la sustitución hacia atrás\n",
        "    print(\"\\nMatriz reducida:\")\n",
        "    print(A)\n",
        "\n",
        "    return x\n",
        "\n",
        "# Definición de la matriz aumentada\n",
        "A = np.array([[0.003000, 59.14, 59.17],\n",
        "              [5.291, -6.130, 46.78]], dtype=float)\n",
        "\n",
        "# Llamar a la función y obtener la solución\n",
        "solucion = eliminacion_gaussiana_pivoteo_parcial(A)\n",
        "print(\"\\nSolución del sistema:\")\n",
        "for i in range(len(solucion)):\n",
        "    print(f\"x{i+1} = {solucion[i]:.0f}\")\n"
      ]
    },
    {
      "cell_type": "markdown",
      "source": [
        "la eliminación gaussiana es un método fundamental y eficiente para resolver sistemas de ecuaciones lineales. Sin embargo, cuando se aplica directamente, puede sufrir problemas de estabilidad numérica, especialmente si los coeficientes de la matriz tienen magnitudes muy diferentes.\n",
        "\n",
        "El pivoteo parcial es una técnica crucial para garantizar la precisión y estabilidad de la eliminación gaussiana en la resolución de sistemas de ecuaciones lineales, especialmente en aplicaciones científicas y de ingeniería."
      ],
      "metadata": {
        "id": "UDxfIWJNXwZu"
      }
    }
  ]
}