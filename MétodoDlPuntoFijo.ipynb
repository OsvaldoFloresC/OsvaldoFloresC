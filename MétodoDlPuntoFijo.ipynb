{
  "nbformat": 4,
  "nbformat_minor": 0,
  "metadata": {
    "colab": {
      "provenance": [],
      "authorship_tag": "ABX9TyNU4BHpoondNWeA7oAEVJJB",
      "include_colab_link": true
    },
    "kernelspec": {
      "name": "python3",
      "display_name": "Python 3"
    },
    "language_info": {
      "name": "python"
    }
  },
  "cells": [
    {
      "cell_type": "markdown",
      "metadata": {
        "id": "view-in-github",
        "colab_type": "text"
      },
      "source": [
        "<a href=\"https://colab.research.google.com/github/OsvaldoFloresC/OsvaldoFloresC/blob/main/M%C3%A9todoDlPuntoFijo.ipynb\" target=\"_parent\"><img src=\"https://colab.research.google.com/assets/colab-badge.svg\" alt=\"Open In Colab\"/></a>"
      ]
    },
    {
      "cell_type": "code",
      "source": [
        "# Definimos la función original f(x), al despejar la función\n",
        "def funcion1(x):\n",
        "    return x**3 - x - 1"
      ],
      "metadata": {
        "id": "Q5g-t2juBtzs"
      },
      "execution_count": 137,
      "outputs": []
    },
    {
      "cell_type": "markdown",
      "source": [
        " Tenemos *$x^{3}-x-1=0\\\\\n",
        "x^{3}=1+x\\\\\n",
        "\\Rightarrow\\ x=(1+x)^{\\frac{1}{3}}$*"
      ],
      "metadata": {
        "id": "721jACL6Bpfg"
      }
    },
    {
      "cell_type": "code",
      "source": [
        "# Por el metodo del punto fijo: El número p es un punto fijo para una función dada g si g(p) = p.\n",
        "def funcion_g(p):\n",
        "    return (p + 1)**(1/3)"
      ],
      "metadata": {
        "id": "e04iqqaABv-U"
      },
      "execution_count": 138,
      "outputs": []
    },
    {
      "cell_type": "code",
      "source": [
        "# Ingreso de datos de entrada para los diferentes métodos a trabajar\n",
        "a = 1  # Extremo inferior del intervalo\n",
        "b = 2  # Extremo superior del intervalo\n",
        "\n",
        "# Guarda valores iniciales del error y del número de iteraciones\n",
        "tol = 0.01  # Representa la tolerancia\n",
        "nmax = 100  # Representa el número máximo de iteraciones\n",
        "error = 100.0  # Indica que el error comienza en 100 (como flotante)\n",
        "niter = 0  # Se encarga de contar las iteraciones"
      ],
      "metadata": {
        "id": "HTGPTUoKByL0"
      },
      "execution_count": 139,
      "outputs": []
    },
    {
      "cell_type": "code",
      "execution_count": 140,
      "metadata": {
        "colab": {
          "base_uri": "https://localhost:8080/"
        },
        "id": "NcG7QW2tBVMG",
        "outputId": "e86a0022-8bba-46ca-cf60-30b4f7dc5c35"
      },
      "outputs": [
        {
          "output_type": "stream",
          "name": "stdout",
          "text": [
            "n \t\t p \t\t g(p) \t\t Error\n",
            "1\t\t 1.500000 \t 1.357209 \t100.000000\n",
            "2\t\t 1.357209 \t 1.330861 \t 0.026348\n",
            "3\t\t 1.330861 \t 1.325884 \t 0.004977\n",
            "\n",
            "La raíz de la función dada en el intervalo [1.000000,2.000000] es:1.330861\n"
          ]
        }
      ],
      "source": [
        "# Método del punto fijo\n",
        "\n",
        "# Primer valor de p, usando el punto medio del intervalo\n",
        "p = 1.5\n",
        "g_p = funcion_g(p)\n",
        "\n",
        "# Encabezado de la tabla\n",
        "print(\"n \\t\\t p \\t\\t g(p) \\t\\t Error\")\n",
        "\n",
        "# Imprimir la primera fila\n",
        "print(\"1\\t\\t {0:6.6f} \\t {1:6.6f} \\t{2:6.6f}\".format(p, g_p, error))\n",
        "\n",
        "# Ciclo iterativo\n",
        "while error > tol and niter < nmax:\n",
        "    niter += 1\n",
        "    # Guardar el valor anterior de p\n",
        "    p_anterior = p\n",
        "    # Actualizar el valor de p y calcular g(p)\n",
        "    p = g_p  # p toma el valor de g(p) en cada iteración\n",
        "    g_p = funcion_g(p)\n",
        "\n",
        "    # Calcular el error\n",
        "    error = abs(g_p - funcion_g(p_anterior))\n",
        "\n",
        "    # Imprimir valores de la iteración\n",
        "    print(\"{0}\\t\\t {1:6.6f} \\t {2:6.6f} \\t {3:6.6f}\".format(niter + 1, p, g_p, error))\n",
        "\n",
        "# Imprimir el resultado final\n",
        "print(\"\\nLa raíz de la función dada en el intervalo [{0:6.6f},{1:6.6f}] es:{2:6.6f}\".format(a, b, p))"
      ]
    },
    {
      "cell_type": "code",
      "source": [
        "from math import *\n",
        "import numpy as np # contiene vectores y arreglos\n",
        "import matplotlib . pyplot as plt #imprime la grafica"
      ],
      "metadata": {
        "id": "HKJGoHv6CpyM"
      },
      "execution_count": 141,
      "outputs": []
    },
    {
      "cell_type": "code",
      "source": [
        "x=np.linspace(1,5,100)"
      ],
      "metadata": {
        "id": "zqgjoYzyCZeM"
      },
      "execution_count": 142,
      "outputs": []
    },
    {
      "cell_type": "code",
      "source": [
        "#plt.figure(figsize=(8,8))#Tamaño de la grafica\n",
        "plt.plot(x, funcion1(x))\n",
        "plt.plot(x, funcion_g(x))\n",
        "plt.axhline(0, color=\"black\")\n",
        "plt.axvline(0, color=\"black\")\n",
        "# Coordenadas del punto\n",
        "x = [1.330861]\n",
        "y = [1.325884 ]\n",
        "plt.scatter(x, y, color='red')\n",
        "plt.xlim(1, 2)\n",
        "plt.ylim(1, 2)\n",
        "plt.xlabel('Eje X')\n",
        "plt.ylabel('Eje Y')\n",
        "plt.show()"
      ],
      "metadata": {
        "colab": {
          "base_uri": "https://localhost:8080/",
          "height": 455
        },
        "id": "-kDWmcBKLP0U",
        "outputId": "45a7625c-6be6-45cc-bc5e-d2dc1551e0ca"
      },
      "execution_count": 143,
      "outputs": [
        {
          "output_type": "display_data",
          "data": {
            "text/plain": [
              "<Figure size 640x480 with 1 Axes>"
            ],
            "image/png": "[encoded data removed]"
          },
          "metadata": {}
        }
      ]
    },
    {
      "cell_type": "markdown",
      "source": [
        "Por el método del punto fijo, la raíz de la función dada en el intervalo $[1,2]$ es: $1.330861$"
      ],
      "metadata": {
        "id": "Rllm0MaFOl5G"
      }
    }
  ]
}