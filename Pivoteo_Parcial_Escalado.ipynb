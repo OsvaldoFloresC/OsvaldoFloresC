{
  "nbformat": 4,
  "nbformat_minor": 0,
  "metadata": {
    "colab": {
      "provenance": [],
      "authorship_tag": "ABX9TyP/dnRoznvg2f8vF8GNeFrE",
      "include_colab_link": true
    },
    "kernelspec": {
      "name": "python3",
      "display_name": "Python 3"
    },
    "language_info": {
      "name": "python"
    }
  },
  "cells": [
    {
      "cell_type": "markdown",
      "metadata": {
        "id": "view-in-github",
        "colab_type": "text"
      },
      "source": [
        "<a href=\"https://colab.research.google.com/github/OsvaldoFloresC/OsvaldoFloresC/blob/main/Pivoteo_Parcial_Escalado.ipynb\" target=\"_parent\"><img src=\"https://colab.research.google.com/assets/colab-badge.svg\" alt=\"Open In Colab\"/></a>"
      ]
    },
    {
      "cell_type": "markdown",
      "source": [
        "# **Eliminación gaussiana con pivoteo parcial escalado.**\n",
        "El pivoteo parcial escalado es una mejora adicional del pivoteo parcial. Antes de seleccionar el pivote, cada fila de la matriz se escala por el valor absoluto más grande en esa fila. Esto asegura que la selección del pivote sea menos sensible a las variaciones en la magnitud de los coeficientes, proporcionando una mayor estabilidad numérica.\n",
        "\n",
        "Ventajas del Pivoteo Parcial Escalado\n",
        "\n",
        "Mayor Estabilidad Numérica: El escalamiento ayuda a evitar divisiones por números muy pequeños, lo que reduce los errores de redondeo y mejora la precisión de la solución.\n",
        "\n",
        "Selección de Pivotes Más Eficiente: Al escalar las filas antes de seleccionar el pivote, se asegura que se elija el mejor pivote posible en términos relativos.\n",
        "\n",
        "Aplicable a Sistemas Mal Condicionados: Es especialmente útil para resolver sistemas de ecuaciones que son mal condicionados o tienen coeficientes con magnitudes muy diferentes."
      ],
      "metadata": {
        "id": "21kYo92XrUpL"
      }
    },
    {
      "cell_type": "code",
      "source": [
        "import numpy as np\n",
        "\n",
        "def eliminacion_gaussiana_pivoteo_escalado(A, b, cifras_significativas=3):\n",
        "\n",
        "    def redondear_a_cifras_significativas(x, cifras_sig):\n",
        "        \"\"\"Redondeo a cifras significativas.\"\"\"\n",
        "        return np.round(x, cifras_sig - int(np.floor(np.log10(abs(x)))) - 1) if x != 0 else 0\n",
        "\n",
        "    n = len(b)\n",
        "    A = A.copy()\n",
        "    b = b.copy()\n",
        "\n",
        "    # Redondear la matriz inicial y el vector independiente a cifras significativas\n",
        "    A = np.vectorize(lambda x: redondear_a_cifras_significativas(x, cifras_significativas))(A)\n",
        "    b = np.vectorize(lambda x: redondear_a_cifras_significativas(x, cifras_significativas))(b)\n",
        "\n",
        "    # Extender la matriz A con b para realizar las operaciones simultáneamente\n",
        "    Ab = np.hstack((A, b.reshape(-1, 1)))\n",
        "\n",
        "    # Imprimir la matriz inicial\n",
        "    print(\"Matriz Aumentada Inicial:\")\n",
        "    print(Ab)\n",
        "\n",
        "    # Paso 1: Escalamiento y determinación inicial\n",
        "    s = np.max(np.abs(A), axis=1)  # Vector de escalas\n",
        "    if np.any(s == 0):\n",
        "        raise ValueError(\"No existe solución única: escala cero detectada.\")\n",
        "\n",
        "    # Vector de índices que representa el orden de las filas\n",
        "    NROW = np.arange(n)\n",
        "\n",
        "    # Proceso de eliminación\n",
        "    for i in range(n - 1):\n",
        "        # Paso 2: Determinación del pivote escalado\n",
        "        ratios = np.abs(Ab[NROW[i:], i]) / s[NROW[i:]]\n",
        "        p = i + np.argmax(ratios)  # Índice del máximo elemento escalado\n",
        "\n",
        "        # Intercambio de filas\n",
        "        if p != i:\n",
        "            NROW[i], NROW[p] = NROW[p], NROW[i]\n",
        "\n",
        "        # Paso 3: Eliminación hacia adelante\n",
        "        for j in range(i + 1, n):\n",
        "            factor = redondear_a_cifras_significativas(Ab[NROW[j], i] / Ab[NROW[i], i], cifras_significativas)\n",
        "            Ab[NROW[j], i:] = np.vectorize(lambda x: redondear_a_cifras_significativas(x, cifras_significativas))(\n",
        "                Ab[NROW[j], i:] - factor * Ab[NROW[i], i:]\n",
        "            )\n",
        "\n",
        "    # Sustitución hacia atrás\n",
        "    x = np.zeros(n)\n",
        "    for i in range(n - 1, -1, -1):\n",
        "        x[i] = redondear_a_cifras_significativas(\n",
        "            (Ab[NROW[i], -1] - np.dot(Ab[NROW[i], i + 1:n], x[i + 1:n])) / Ab[NROW[i], i],\n",
        "            cifras_significativas\n",
        "        )\n",
        "\n",
        "    return x\n",
        "\n",
        "\n",
        "# Datos del sistema (matriz de coeficientes y vector independiente)\n",
        "A = np.array([\n",
        "    [2.11, -4.21, 0.921],\n",
        "    [4.01, 10.2, -1.12],\n",
        "    [1.09, 0.987, 0.832]\n",
        "])\n",
        "\n",
        "b = np.array([2.01, -3.09, 4.21])\n",
        "\n",
        "# Resolviendo el sistema ajustando a 3 cifras significativas\n",
        "solucion_redondeada = eliminacion_gaussiana_pivoteo_escalado(A, b, cifras_significativas=3)\n",
        "\n",
        "# Mostrando la solución\n",
        "print(\"\\nSolución del sistema:\")\n",
        "for i, val in enumerate(solucion_redondeada, start=1):\n",
        "    print(f\"x{i} = {val:.3f}\")\n"
      ],
      "metadata": {
        "colab": {
          "base_uri": "https://localhost:8080/"
        },
        "id": "IkVzsTi_oKCC",
        "outputId": "96c1050d-4a2d-462f-9692-e297f929239d"
      },
      "execution_count": null,
      "outputs": [
        {
          "output_type": "stream",
          "name": "stdout",
          "text": [
            "Matriz Aumentada Inicial:\n",
            "[[ 2.11  -4.21   0.921  2.01 ]\n",
            " [ 4.01  10.2   -1.12  -3.09 ]\n",
            " [ 1.09   0.987  0.832  4.21 ]]\n",
            "\n",
            "Solución del sistema:\n",
            "x1 = -0.432\n",
            "x2 = 0.427\n",
            "x3 = 5.120\n"
          ]
        }
      ]
    },
    {
      "cell_type": "markdown",
      "source": [
        "La eliminación gaussiana con pivoteo parcial escalado es una técnica mejorada para resolver sistemas de ecuaciones lineales que combina dos enfoques para mejorar la estabilidad numérica y la precisión de las soluciones"
      ],
      "metadata": {
        "id": "Xgfc5XWnsNbz"
      }
    }
  ]
}