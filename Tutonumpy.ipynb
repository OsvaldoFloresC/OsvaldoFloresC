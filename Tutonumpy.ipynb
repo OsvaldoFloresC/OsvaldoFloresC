{
  "cells": [
    {
      "cell_type": "markdown",
      "metadata": {
        "id": "view-in-github",
        "colab_type": "text"
      },
      "source": [
        "<a href=\"https://colab.research.google.com/github/OsvaldoFloresC/OsvaldoFloresC/blob/main/Tutonumpy.ipynb\" target=\"_parent\"><img src=\"https://colab.research.google.com/assets/colab-badge.svg\" alt=\"Open In Colab\"/></a>"
      ]
    },
    {
      "cell_type": "markdown",
      "metadata": {
        "id": "JDWxjeUJF02H"
      },
      "source": [
        "Este es un breve tutorial sobre la libreria NUMPY \\\n",
        "\n",
        "numpy (Numerical Python) es una biblioteca que permite manejar arrays y matrices multidimensionales de datos de manera eficiente. También proporciona una colección de funciones matemáticas para operaciones rápidas en estos arrays. \\\n",
        "\n",
        "\\\n",
        "Es importantante por su:  \\\n",
        "Eficiencia: numpy está implementado en C, por lo que es mucho más rápido que listas anidadas de Python para operaciones matemáticas.\n",
        "\n",
        "Funcionalidad: Ofrece herramientas para integrar C/C++ y Fortran, y funciones matemáticas complejas como transformadas de Fourier, álgebra lineal, y estadísticas."
      ]
    },
    {
      "cell_type": "code",
      "execution_count": 24,
      "metadata": {
        "colab": {
          "base_uri": "https://localhost:8080/"
        },
        "id": "A9d6u-B1FkVl",
        "outputId": "a81565e0-6854-4ffd-ea22-cd2c34d6e43f"
      },
      "outputs": [
        {
          "output_type": "stream",
          "name": "stdout",
          "text": [
            "[[[1 2 3]\n",
            "  [4 6 7]]\n",
            "\n",
            " [[5 8 2]\n",
            "  [4 0 9]]]\n",
            "3\n",
            "[[1 2 3]\n",
            " [4 6 7]]\n",
            "[5 8 2]\n",
            "7\n"
          ]
        }
      ],
      "source": [
        "import numpy as np\n",
        "\n",
        "mi_array = np.array([[[1,2,3],[4,6,7]], [[5,8,2],[4,0,9]]]) #Combinancion de arrays para formar una matriz\n",
        "\n",
        "#imprime la matriz\n",
        "print(mi_array)\n",
        "\n",
        "#Este comando imprime el número de dimensiones del array\n",
        "print(mi_array.ndim)\n",
        "\n",
        "#Este comando selecciona y muestra el primer array en mi_array\n",
        "print(mi_array[0])\n",
        "\n",
        "#Este comando selecciona y muestra el primer array de la segunda fila.\n",
        "print(mi_array[1,0])\n",
        "\n",
        "#Este comando selecciona y muestra el elemento específico en la matriz/fila/columna indicadas.\n",
        "print(mi_array[0,1,2])\n"
      ]
    },
    {
      "cell_type": "markdown",
      "metadata": {
        "id": "DR9Ube0sIMXI"
      },
      "source": [
        "Con la función reshape reorganiza los elementos del array en la nueva forma especificada.\n",
        "\n",
        "Este es un ejemplo excelente de cómo numpy facilita la manipulación de matrices y arrays de manera eficiente y clara."
      ]
    },
    {
      "cell_type": "code",
      "execution_count": 25,
      "metadata": {
        "colab": {
          "base_uri": "https://localhost:8080/"
        },
        "id": "7VY-IdZ-HB5U",
        "outputId": "4c5bf965-2cca-4fcc-9898-dbe63f1443b9"
      },
      "outputs": [
        {
          "output_type": "stream",
          "name": "stdout",
          "text": [
            "(2, 4)\n",
            "[[1 2 3 4]\n",
            " [5 6 7 8]]\n",
            "[[1 2]\n",
            " [3 4]\n",
            " [5 6]\n",
            " [7 8]]\n"
          ]
        }
      ],
      "source": [
        "mi_array = np.array([[1, 2, 3, 4], [5, 6, 7, 8]])\n",
        "\n",
        "# Imprimir la forma del array\n",
        "print(np.shape(mi_array))  # Salida: (2, 4)\n",
        "\n",
        "# Imprimir el array original\n",
        "print(mi_array)\n",
        "\n",
        "# Cambiar la forma del array a (4, 2)\n",
        "mi_array = mi_array.reshape(4, 2)\n",
        "\n",
        "# Imprimir el array con la nueva forma\n",
        "print(mi_array)\n"
      ]
    },
    {
      "cell_type": "markdown",
      "source": [
        "Al trabajar con arrays de múltiples dimensiones en NumPy, necesitamos utilizar bucles anidados para acceder a cada elemento."
      ],
      "metadata": {
        "id": "ydtxnevDSur2"
      }
    },
    {
      "cell_type": "code",
      "execution_count": 26,
      "metadata": {
        "colab": {
          "base_uri": "https://localhost:8080/"
        },
        "id": "VK0Lhr8sRXV1",
        "outputId": "e0fc6668-91ee-4190-f471-e8e5d78f64a1"
      },
      "outputs": [
        {
          "output_type": "stream",
          "name": "stdout",
          "text": [
            "1\n",
            "2\n",
            "3\n",
            "4\n",
            "5\n",
            "6\n",
            "7\n",
            "8\n",
            "9\n",
            "10\n",
            "11\n",
            "12\n"
          ]
        }
      ],
      "source": [
        "mi_array = np.array([[[1, 2, 3], [4, 5, 6]], [[7, 8, 9], [10, 11, 12]]])\n",
        "\n",
        "# Imprimir todos los elementos del array con bucles anidados\n",
        "#Primer bucle: Itera a través de cada sub-matriz en el array.\n",
        "for matriz in mi_array:\n",
        "  #Segundo bucle: Itera a través de cada fila en cada sub-matriz.\n",
        "    for fila in matriz:\n",
        "      #Tercer bucle: Itera a través de cada elemento en cada fila y lo imprime\n",
        "        for elemento in fila:\n",
        "            print(elemento)\n"
      ]
    },
    {
      "cell_type": "markdown",
      "metadata": {
        "id": "J4ZLZ38praQL"
      },
      "source": [
        "arr1 y arr2 son matrices de 2x2.\n",
        "\n",
        "La función np.concatenate((arr1, arr2), axis=1) concatena arr1 y arr2 horizontalmente a lo largo del eje 1."
      ]
    },
    {
      "cell_type": "code",
      "execution_count": 27,
      "metadata": {
        "colab": {
          "base_uri": "https://localhost:8080/"
        },
        "id": "S0xpaTnEoQgQ",
        "outputId": "841aaa7e-98d9-49da-ae99-03efc2e7074c"
      },
      "outputs": [
        {
          "output_type": "stream",
          "name": "stdout",
          "text": [
            "[[1 2 5 6]\n",
            " [3 4 7 8]]\n"
          ]
        }
      ],
      "source": [
        "arr1 = np.array([[1,2],[3,4]])\n",
        "arr2 = np.array([[5,6],[7,8]])\n",
        "\n",
        "# Concatenar los arrays a lo largo del eje 1 (horizontalmente)\n",
        "arr = np.concatenate((arr1,arr2), axis=1)\n",
        "print(arr)"
      ]
    },
    {
      "cell_type": "markdown",
      "source": [
        "Dividir un array es útil para:\n",
        "\n",
        "Paralelización: Mejorar la eficiencia distribuyendo el trabajo.\n",
        "\n",
        "Análisis por partes: Facilitar el análisis de datos grandes.\n",
        "\n",
        "Algoritmos específicos: Trabajar de manera efectiva con algunos algoritmos.\n",
        "\n",
        "Entrenamiento de modelos: Evaluar el rendimiento en aprendizaje automático."
      ],
      "metadata": {
        "id": "5oWyTxIOE04z"
      }
    },
    {
      "cell_type": "code",
      "execution_count": 28,
      "metadata": {
        "colab": {
          "base_uri": "https://localhost:8080/"
        },
        "id": "sQSl9U-tsICN",
        "outputId": "47c2d9b6-397e-4f99-bfd4-60e37a86831c"
      },
      "outputs": [
        {
          "output_type": "stream",
          "name": "stdout",
          "text": [
            "[array([1, 2]), array([3, 4]), array([5, 6])]\n"
          ]
        }
      ],
      "source": [
        "arr =  np.array([1,2,3,4,5,6])\n",
        "\n",
        "newarr = np.array_split(arr, 3) #El array se puede dividir\n",
        "\n",
        "print(newarr)"
      ]
    },
    {
      "cell_type": "markdown",
      "source": [
        "np.where te proporciona las posiciones (índices) en el array donde el valor es igual a 4. En este caso, los valores 4 se encuentran en las posiciones 3, 5 y 6 del array."
      ],
      "metadata": {
        "id": "b6_Vnv9yFrkv"
      }
    },
    {
      "cell_type": "code",
      "execution_count": 29,
      "metadata": {
        "colab": {
          "base_uri": "https://localhost:8080/"
        },
        "id": "joJFmVW2Plip",
        "outputId": "154d2e05-b451-46aa-de82-b80ed50a9beb"
      },
      "outputs": [
        {
          "output_type": "stream",
          "name": "stdout",
          "text": [
            "(array([3, 5, 6]),)\n"
          ]
        }
      ],
      "source": [
        "arr = np.array([1,2,3,4,5,4,4])\n",
        "\n",
        "x = np.where(arr == 4) #forma de buscar en un array\n",
        "\n",
        "print(x)"
      ]
    },
    {
      "cell_type": "markdown",
      "source": [
        "np.sort ordena los elementos del array en orden ascendente. En este caso, los elementos se ordenan de menor a mayor: [1, 2, 3, 4, 5, 6, 7, 8, 9]"
      ],
      "metadata": {
        "id": "9xa7v8pxGFfs"
      }
    },
    {
      "cell_type": "code",
      "execution_count": 30,
      "metadata": {
        "colab": {
          "base_uri": "https://localhost:8080/"
        },
        "id": "97qpdDmgRmOM",
        "outputId": "12465d2c-0d14-4f60-8173-68f27ba608d3"
      },
      "outputs": [
        {
          "output_type": "stream",
          "name": "stdout",
          "text": [
            "[1 2 3 4 5 6 7 8 9]\n"
          ]
        }
      ],
      "source": [
        "arr = np.array([8,9,4,6,3,2,7,1,5])\n",
        "\n",
        "print(np.sort(arr)) #ordena los elementos"
      ]
    },
    {
      "cell_type": "markdown",
      "metadata": {
        "id": "6txGWx7VW2Dy"
      },
      "source": [
        "Numeros Aleatorios \\\n",
        "En Numpy, los números aleatorios se generan utilizando funciones del módulo **numpy.random.** Este módulo proporciona herramientas para generar diferentes tipos de números aleatorios, lo cual es útil para simulaciones, análisis estadístico, aprendizaje automático y muchos otros fines científicos y de ingeniería."
      ]
    },
    {
      "cell_type": "markdown",
      "source": [
        "Enteros aleatorios (random.randint): Genera números enteros aleatorios en un rango específico"
      ],
      "metadata": {
        "id": "R-7P8Qo2IUuu"
      }
    },
    {
      "cell_type": "code",
      "execution_count": 31,
      "metadata": {
        "colab": {
          "base_uri": "https://localhost:8080/"
        },
        "id": "wVsCLoDLVxvH",
        "outputId": "34b88d9c-55ee-4ea0-f813-b001ef12747b"
      },
      "outputs": [
        {
          "output_type": "stream",
          "name": "stdout",
          "text": [
            "12\n",
            "0.69\n",
            "5.6899999999999995\n",
            "[[0.68884769 0.27245614 0.48667696]\n",
            " [0.44013289 0.77444322 0.98980752]\n",
            " [0.85093663 0.01531694 0.78802757]]\n",
            "-1.7483224931286379\n"
          ]
        }
      ],
      "source": [
        "from numpy import random\n",
        "\n",
        "# Genera un número entero aleatorio entre 0 y 49\n",
        "numero = random.randint(50)\n",
        "print(numero)\n",
        "\n",
        "# Genera un número de punto flotante aleatorio entre 0 y 1\n",
        "numero = random.rand()\n",
        "\n",
        "# Redondea el número a tres decimales y lo imprime\n",
        "print(round(numero, 3))\n",
        "\n",
        "# Suma 5 al número redondeado y lo imprime\n",
        "print(round(numero, 3) + 5)\n",
        "\n",
        "# Genera un array 3x3 de números de punto flotante aleatorios entre 0 y 1\n",
        "array = np.random.random((3, 3))\n",
        "print(array)\n",
        "\n",
        "# Genera un número aleatorio siguiendo una distribución normal\n",
        "numero = np.random.randn()\n",
        "print(numero)\n"
      ]
    },
    {
      "cell_type": "markdown",
      "source": [
        "random.choice de Numpy se utiliza para seleccionar un elemento al azar de una lista o array."
      ],
      "metadata": {
        "id": "XirxwyHUKUGs"
      }
    },
    {
      "cell_type": "code",
      "execution_count": 32,
      "metadata": {
        "colab": {
          "base_uri": "https://localhost:8080/"
        },
        "id": "OJuVtO-NebKZ",
        "outputId": "62138b2f-1baf-4a6c-c8f2-f1cc4ba24f5f"
      },
      "outputs": [
        {
          "output_type": "stream",
          "name": "stdout",
          "text": [
            "El ganador del sorteo es: Ben\n",
            "['Ash' 'Dexter' 'Vaca']\n",
            "[['Ferb' 'Scooby' 'Dexter' 'Ben' 'Vaca']\n",
            " ['Dexter' 'Ioga' 'Edd' 'Ash' 'Edd']\n",
            " ['Ben' 'Dexter' 'Dexter' 'Scooby' 'Ben']]\n"
          ]
        }
      ],
      "source": [
        "lista_nombres =[\"Bob\",\"Dexter\",\"Scooby\",\"Vaca\",\"Edd\",\"Ash\",\"Ben\",\"Ioga\",\"Ferb\"]\n",
        "\n",
        "# selecciona a un ganador\n",
        "ganador = random.choice(lista_nombres)\n",
        "print(\"El ganador del sorteo es: \"+ ganador)\n",
        "\n",
        "# selecciona al menos a 3 ganadores\n",
        "ganador = random.choice(lista_nombres, size=(3))\n",
        "print(ganador)\n",
        "\n",
        "# crea una matriz de 3 filas y 5 columnas\n",
        "ganador = random.choice(lista_nombres, size=(3,5))\n",
        "print(ganador)\n"
      ]
    },
    {
      "cell_type": "markdown",
      "source": [
        "En lo general, Numpy es una biblioteca esencial para trabajar con datos en Python debido a su eficiencia y funcionalidades como:"
      ],
      "metadata": {
        "id": "QmkGBqEhMarU"
      }
    },
    {
      "cell_type": "markdown",
      "source": [
        "Operaciones matemáticas y estadísticas: Numpy ofrece un amplio conjunto de funciones para realizar cálculos matemáticos y estadísticos, como sumas, productos, medias, desviaciones estándar y mucho más."
      ],
      "metadata": {
        "id": "juZsidrdMtPb"
      }
    },
    {
      "cell_type": "code",
      "source": [
        "arr = np.array([1, 2, 3, 4, 5])\n",
        "\n",
        "print(np.mean(arr))  # Media\n",
        "print(np.std(arr))   # Desviación estándar\n"
      ],
      "metadata": {
        "colab": {
          "base_uri": "https://localhost:8080/"
        },
        "id": "aAez2fpAL5rG",
        "outputId": "39bd1880-0ccd-47e1-d392-c1637c1141e0"
      },
      "execution_count": 33,
      "outputs": [
        {
          "output_type": "stream",
          "name": "stdout",
          "text": [
            "3.0\n",
            "1.4142135623730951\n"
          ]
        }
      ]
    },
    {
      "cell_type": "markdown",
      "source": [
        "Manipulación de datos: Numpy permite realizar operaciones avanzadas de manipulación de datos, como transponer matrices, invertir matrices y realizar operaciones de álgebra lineal."
      ],
      "metadata": {
        "id": "p1WsURSKM6nf"
      }
    },
    {
      "cell_type": "code",
      "source": [
        "matrix = np.array([[1, 2], [3, 4]])\n",
        "\n",
        "print(matrix) # Matriz\n",
        "print(np.transpose(matrix))  # Transponer matriz\n",
        "print(np.linalg.inv(matrix))  # Invertir matriz\n"
      ],
      "metadata": {
        "colab": {
          "base_uri": "https://localhost:8080/"
        },
        "id": "ftLaVjBbNABP",
        "outputId": "883bd404-3e8a-4263-d08d-846366515026"
      },
      "execution_count": 34,
      "outputs": [
        {
          "output_type": "stream",
          "name": "stdout",
          "text": [
            "[[1 2]\n",
            " [3 4]]\n",
            "[[1 3]\n",
            " [2 4]]\n",
            "[[-2.   1. ]\n",
            " [ 1.5 -0.5]]\n"
          ]
        }
      ]
    },
    {
      "cell_type": "markdown",
      "source": [
        "Transformaciones de datos: Con Numpy, puedes realizar transformaciones como la normalización y escalado de datos, lo cual es crucial en el preprocesamiento de datos para el aprendizaje automático."
      ],
      "metadata": {
        "id": "bYOixCHzNZ9n"
      }
    },
    {
      "cell_type": "code",
      "source": [
        "arr = np.array([1, 2, 3, 4, 5])\n",
        "\n",
        "normalized_arr = (arr - np.min(arr)) / (np.max(arr) - np.min(arr))\n",
        "print(normalized_arr)  # Normalizar datos\n"
      ],
      "metadata": {
        "colab": {
          "base_uri": "https://localhost:8080/"
        },
        "id": "pvhDRsB_NDFB",
        "outputId": "327c367d-8f37-4bf3-cc0e-c5c0d138b274"
      },
      "execution_count": 35,
      "outputs": [
        {
          "output_type": "stream",
          "name": "stdout",
          "text": [
            "[0.   0.25 0.5  0.75 1.  ]\n"
          ]
        }
      ]
    },
    {
      "cell_type": "markdown",
      "source": [
        "Creación de datos estructurados: Puedes crear arrays estructurados con tipos de datos específicos, lo cual es útil para manejar datos heterogéneos."
      ],
      "metadata": {
        "id": "4TCE4OAvNu9K"
      }
    },
    {
      "cell_type": "code",
      "source": [
        "data = np.array([(1, 'Alice', 25), (2, 'Bob', 30)], dtype=[('id', 'i4'), ('name', 'U10'), ('age', 'i4')])\n",
        "\n",
        "print(data['name'])  # Obtener nombres\n"
      ],
      "metadata": {
        "colab": {
          "base_uri": "https://localhost:8080/"
        },
        "id": "HR5-LQB9Nl2l",
        "outputId": "2de45d3b-6b46-447c-fcf5-f02272623119"
      },
      "execution_count": 36,
      "outputs": [
        {
          "output_type": "stream",
          "name": "stdout",
          "text": [
            "['Alice' 'Bob']\n"
          ]
        }
      ]
    },
    {
      "cell_type": "markdown",
      "source": [
        "Integración con otras bibliotecas: Numpy se integra perfectamente con otras bibliotecas científicas y de datos en Python, como Pandas, SciPy y Matplotlib, facilitando el análisis y la visualización de datos. \\\n",
        "La importancia que tiene numpy es fundamental para trabajos científicos, análisis de datos y desarrollo de algoritmos en Python."
      ],
      "metadata": {
        "id": "Z401LeUTOAnS"
      }
    }
  ],
  "metadata": {
    "colab": {
      "provenance": [],
      "authorship_tag": "ABX9TyOloql1pfIO9x8OXWG4ETCL",
      "include_colab_link": true
    },
    "kernelspec": {
      "display_name": "Python 3",
      "name": "python3"
    },
    "language_info": {
      "name": "python"
    }
  },
  "nbformat": 4,
  "nbformat_minor": 0
}