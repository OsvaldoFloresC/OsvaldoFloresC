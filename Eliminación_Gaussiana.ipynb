{
  "nbformat": 4,
  "nbformat_minor": 0,
  "metadata": {
    "colab": {
      "provenance": [],
      "authorship_tag": "ABX9TyOE3sMwpcqrp4v7mpWe78vH",
      "include_colab_link": true
    },
    "kernelspec": {
      "name": "python3",
      "display_name": "Python 3"
    },
    "language_info": {
      "name": "python"
    }
  },
  "cells": [
    {
      "cell_type": "markdown",
      "metadata": {
        "id": "view-in-github",
        "colab_type": "text"
      },
      "source": [
        "<a href=\"https://colab.research.google.com/github/OsvaldoFloresC/OsvaldoFloresC/blob/main/Eliminaci%C3%B3n_Gaussiana.ipynb\" target=\"_parent\"><img src=\"https://colab.research.google.com/assets/colab-badge.svg\" alt=\"Open In Colab\"/></a>"
      ]
    },
    {
      "cell_type": "markdown",
      "source": [
        "# **Eliminación gaussiana con sustitución hacia atrás.**\n",
        "La eliminación gaussiana es un método matemático utilizado para resolver sistemas de ecuaciones lineales. Este método transforma una matriz aumentada (que incluye los coeficientes y los términos independientes de un sistema de ecuaciones) en una matriz triangular superior mediante una serie de operaciones de fila."
      ],
      "metadata": {
        "id": "Tb91QGR5SFfG"
      }
    },
    {
      "cell_type": "code",
      "source": [
        "import numpy as np\n",
        "\n",
        "def eliminacion_gaussiana(A):\n",
        "    n = A.shape[0]  # Número de filas de la matriz A\n",
        "\n",
        "    print(\"Matriz Aumentada Inicial:\")\n",
        "    print(A)\n",
        "\n",
        "    # Proceso de Eliminación Gaussiana\n",
        "    for i in range(n):\n",
        "        # Encontrar el mayor pivote absoluto en la columna actual\n",
        "        max_row_index = np.argmax(abs(A[i:, i])) + i\n",
        "        if A[max_row_index, i] == 0:\n",
        "            raise ValueError(\"El sistema no tiene solución única (pivote nulo encontrado).\")\n",
        "\n",
        "        # Intercambiar la fila actual con la fila del mayor pivote\n",
        "        if i != max_row_index:\n",
        "            A[[i, max_row_index]] = A[[max_row_index, i]]\n",
        "\n",
        "        # Eliminar los elementos debajo del pivote\n",
        "        for j in range(i + 1, n):\n",
        "            factor = A[j, i] / A[i, i]\n",
        "            A[j, i:] = A[j, i:] - factor * A[i, i:]\n",
        "\n",
        "        # Imprimir la matriz después de la eliminación de cada columna\n",
        "        print(f\"\\nMatriz después de la eliminación en la columna {i + 1}:\")\n",
        "        print(A)\n",
        "\n",
        "    # Sustitución hacia atrás\n",
        "    x = np.zeros(n)\n",
        "    for i in range(n - 1, -1, -1):\n",
        "        x[i] = (A[i, -1] - np.dot(A[i, i + 1:n], x[i + 1:n])) / A[i, i]\n",
        "\n",
        "    # Imprimir la matriz después de la sustitución hacia atrás\n",
        "    print(\"\\nMatriz reducida:\")\n",
        "    print(A)\n",
        "\n",
        "    return x\n",
        "\n",
        "# Definición de la matriz aumentada\n",
        "A = np.array([[  1, -1,  2, -1, -8],\n",
        "              [  2, -2,  3, -3, -20],\n",
        "              [  1,  1,  1,  0, -2],\n",
        "              [  1, -1,  4,  3,  4]], dtype=float)\n",
        "\n",
        "# Llamar a la función y obtener la solución\n",
        "solucion = eliminacion_gaussiana(A)\n",
        "print(\"\\nSolución del sistema:\")\n",
        "for i in range(len(solucion)):\n",
        "    print(f\"x{i+1} = {solucion[i]:.1f}\")\n"
      ],
      "metadata": {
        "colab": {
          "base_uri": "https://localhost:8080/"
        },
        "id": "o5zrDHzlQoSp",
        "outputId": "4db2843d-7794-4e5b-ed3c-22bfa59e0d86"
      },
      "execution_count": null,
      "outputs": [
        {
          "output_type": "stream",
          "name": "stdout",
          "text": [
            "Matriz Aumentada Inicial:\n",
            "[[  1.  -1.   2.  -1.  -8.]\n",
            " [  2.  -2.   3.  -3. -20.]\n",
            " [  1.   1.   1.   0.  -2.]\n",
            " [  1.  -1.   4.   3.   4.]]\n",
            "\n",
            "Matriz después de la eliminación en la columna 1:\n",
            "[[  2.   -2.    3.   -3.  -20. ]\n",
            " [  0.    0.    0.5   0.5   2. ]\n",
            " [  0.    2.   -0.5   1.5   8. ]\n",
            " [  0.    0.    2.5   4.5  14. ]]\n",
            "\n",
            "Matriz después de la eliminación en la columna 2:\n",
            "[[  2.   -2.    3.   -3.  -20. ]\n",
            " [  0.    2.   -0.5   1.5   8. ]\n",
            " [  0.    0.    0.5   0.5   2. ]\n",
            " [  0.    0.    2.5   4.5  14. ]]\n",
            "\n",
            "Matriz después de la eliminación en la columna 3:\n",
            "[[  2.   -2.    3.   -3.  -20. ]\n",
            " [  0.    2.   -0.5   1.5   8. ]\n",
            " [  0.    0.    2.5   4.5  14. ]\n",
            " [  0.    0.    0.   -0.4  -0.8]]\n",
            "\n",
            "Matriz después de la eliminación en la columna 4:\n",
            "[[  2.   -2.    3.   -3.  -20. ]\n",
            " [  0.    2.   -0.5   1.5   8. ]\n",
            " [  0.    0.    2.5   4.5  14. ]\n",
            " [  0.    0.    0.   -0.4  -0.8]]\n",
            "\n",
            "Matriz reducida:\n",
            "[[  2.   -2.    3.   -3.  -20. ]\n",
            " [  0.    2.   -0.5   1.5   8. ]\n",
            " [  0.    0.    2.5   4.5  14. ]\n",
            " [  0.    0.    0.   -0.4  -0.8]]\n",
            "\n",
            "Solución del sistema:\n",
            "x1 = -7.0\n",
            "x2 = 3.0\n",
            "x3 = 2.0\n",
            "x4 = 2.0\n"
          ]
        }
      ]
    },
    {
      "cell_type": "markdown",
      "source": [
        "La eliminación gaussiana es un método muy efectivo y se utiliza ampliamente en matemáticas, ingeniería y ciencias para resolver sistemas de ecuaciones lineales."
      ],
      "metadata": {
        "id": "rWxs3G9JSlwj"
      }
    }
  ]
}